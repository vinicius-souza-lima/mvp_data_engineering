{
 "cells": [
  {
   "cell_type": "markdown",
   "metadata": {
    "application/vnd.databricks.v1+cell": {
     "cellMetadata": {
      "byteLimit": 2048000,
      "rowLimit": 10000
     },
     "inputWidgets": {},
     "nuid": "a14fb187-d2cb-441d-99a1-97848b151072",
     "showTitle": false,
     "tableResultSettingsMap": {},
     "title": ""
    }
   },
   "source": [
    "# MVP Engenharia de Dados"
   ]
  },
  {
   "cell_type": "code",
   "execution_count": 0,
   "metadata": {
    "application/vnd.databricks.v1+cell": {
     "cellMetadata": {
      "byteLimit": 2048000,
      "rowLimit": 10000
     },
     "inputWidgets": {},
     "nuid": "b90b25ca-bba5-4409-b661-0e130577c57d",
     "showTitle": false,
     "tableResultSettingsMap": {},
     "title": ""
    }
   },
   "outputs": [],
   "source": [
    "import pandas as pd\n",
    "from pyspark.sql.functions import explode,col,from_json\n",
    "from pyspark.sql.types import StructType, StructField, IntegerType, StringType, ArrayType"
   ]
  },
  {
   "cell_type": "markdown",
   "metadata": {
    "application/vnd.databricks.v1+cell": {
     "cellMetadata": {},
     "inputWidgets": {},
     "nuid": "37aa2887-e340-48d7-855c-56ddafabc9b1",
     "showTitle": false,
     "tableResultSettingsMap": {},
     "title": ""
    }
   },
   "source": [
    "# 0. Objetivos"
   ]
  },
  {
   "cell_type": "markdown",
   "metadata": {
    "application/vnd.databricks.v1+cell": {
     "cellMetadata": {},
     "inputWidgets": {},
     "nuid": "2f517ad4-595a-4496-9176-63b316d96ce1",
     "showTitle": false,
     "tableResultSettingsMap": {},
     "title": ""
    }
   },
   "source": [
    "Entender a distribuição dos atores na base de filmes:\n",
    "- Qual o filme com mais atores da base?\n",
    "- Que porcentagem dos atores são mulheres?\n",
    "- Que ator e atriz mais atuaram em filmes?\n",
    "- Como a presença de mulheres tem variado ao longo do tempo?\n",
    "\n",
    "Entender características relacionadas aos filmes:\n",
    "- Qual gênero de filme é mais comum?\n",
    "- Que país faz mais filmes desse gênero?"
   ]
  },
  {
   "cell_type": "markdown",
   "metadata": {
    "application/vnd.databricks.v1+cell": {
     "cellMetadata": {
      "byteLimit": 2048000,
      "rowLimit": 10000
     },
     "inputWidgets": {},
     "nuid": "639209cb-9ee5-4942-b6eb-96b5beb5d144",
     "showTitle": false,
     "tableResultSettingsMap": {},
     "title": ""
    }
   },
   "source": [
    "# 1. Busca pelos dados"
   ]
  },
  {
   "cell_type": "markdown",
   "metadata": {
    "application/vnd.databricks.v1+cell": {
     "cellMetadata": {},
     "inputWidgets": {},
     "nuid": "6f04f780-078b-489e-83fc-b95da05eff29",
     "showTitle": false,
     "tableResultSettingsMap": {},
     "title": ""
    }
   },
   "source": [
    " Os dados foram extraídos do Kaggle do dataset [The Movie Dataset](https://www.kaggle.com/datasets/rounakbanik/the-movies-dataset/code), que agrega metadata de mais de 45.000 filmes."
   ]
  },
  {
   "cell_type": "markdown",
   "metadata": {
    "application/vnd.databricks.v1+cell": {
     "cellMetadata": {
      "byteLimit": 2048000,
      "rowLimit": 10000
     },
     "inputWidgets": {},
     "nuid": "ade9ebef-1d82-4848-865b-d68c646ead21",
     "showTitle": false,
     "tableResultSettingsMap": {},
     "title": ""
    }
   },
   "source": [
    "# 2. Coleta"
   ]
  },
  {
   "cell_type": "markdown",
   "metadata": {
    "application/vnd.databricks.v1+cell": {
     "cellMetadata": {},
     "inputWidgets": {},
     "nuid": "caf8f5f7-4d6e-47cf-a9c0-7e72b3716359",
     "showTitle": false,
     "tableResultSettingsMap": {},
     "title": ""
    }
   },
   "source": [
    "Uma vez baixados do Kaggle, os dados foram armazenados em pastas no github, de forma fracionada para respeitar o limite de tamanho imposto pela plataforma, de forma que podem ser importados nestem notebook de forma simples."
   ]
  },
  {
   "cell_type": "markdown",
   "metadata": {
    "application/vnd.databricks.v1+cell": {
     "cellMetadata": {
      "byteLimit": 2048000,
      "rowLimit": 10000
     },
     "inputWidgets": {},
     "nuid": "e6b22225-91d6-4a75-8691-4ea8ce178460",
     "showTitle": false,
     "tableResultSettingsMap": {},
     "title": ""
    }
   },
   "source": [
    "# 3. Modelagem"
   ]
  },
  {
   "cell_type": "markdown",
   "metadata": {
    "application/vnd.databricks.v1+cell": {
     "cellMetadata": {},
     "inputWidgets": {},
     "nuid": "b462ea9c-33af-4b10-84ca-c7bd707aa96d",
     "showTitle": false,
     "tableResultSettingsMap": {},
     "title": ""
    }
   },
   "source": [
    "O modelo de dados escolhido foi o de estrela com várias tabelas fato e dimensões que interconectam. Os dados foram obtidos a partir de um dataset do Kaggle, que por sua vez foi obtido por meio da TMDB Open API e também pelo GroupLens"
   ]
  },
  {
   "cell_type": "markdown",
   "metadata": {
    "application/vnd.databricks.v1+cell": {
     "cellMetadata": {
      "byteLimit": 2048000,
      "rowLimit": 10000
     },
     "inputWidgets": {},
     "nuid": "bb6a2ec1-870f-46f1-8a03-ddc19329d557",
     "showTitle": false,
     "tableResultSettingsMap": {},
     "title": ""
    }
   },
   "source": [
    "## 3.1. Catálogo de Dados"
   ]
  },
  {
   "cell_type": "markdown",
   "metadata": {
    "application/vnd.databricks.v1+cell": {
     "cellMetadata": {},
     "inputWidgets": {},
     "nuid": "97c944aa-2ef9-4c01-b368-4539c322d41c",
     "showTitle": false,
     "tableResultSettingsMap": {},
     "title": ""
    }
   },
   "source": [
    "### **Tabelas dimensão**\n",
    "1. **dim_actors**: Dimensão com atores e atrizes que participaram em algum filme da base dados.\n",
    "- actor_id : Chave primária, número inteiro, identifica unicamente os atores\n",
    "- actor_gender : Número inteiro, identifca o ator em 2 para masculino, 1 para feminino ou 0 para indeterminado.\n",
    "\n",
    "2. **dim_genres**: Dimensão com gêneros de filmes da base.\n",
    "- genre_id : Chave primária, número inteiro, identifica unicamente os gêneros de filmes\n",
    "- genre_name : String, nome do gênero de filme.\n",
    "\n",
    "3. **dim_production_countries**: Dimensão de países produtores de filmes.\n",
    "- country_id : Chave primária, String de 2 caracteres, identifica unicamente os países produtores de filmes\n",
    "- country_name : String, nome do país produtor do filmes.\n",
    "\n",
    "4. **dim_movies**: Dimensão de filmes.\n",
    "- id : Chave primária, número inteiro, identifica unicamente os filmes.\n",
    "- title : String, Título do filme.\n",
    "- adult : Booleano, indica se o filme é adulto ou não.\n",
    "- budget : Número inteiro, orçamento do filme.\n",
    "- revenue : Double, total faturado com o filme.\n",
    "- belongs_to_collection : String, se o filme pertence a alguma coleção de filmes.\n",
    "- popularity : string\n",
    "- release_date : string\n",
    "- status: string, se o filme já foi lançado (Released), se é apenas um rumor (Rumored), se está em pós prdução (Post Production.)\n",
    "- vote_average : double, média dos votos dados ao filme, numa pontuação de 1 a 5.\n",
    "- vote_count : Número inteiro, contagem do número de votos em dado filme.\n",
    "\n",
    "### **Tabelas Fato**\n",
    "\n",
    "1. **fat_movie_cast**: Tabela fato com atores e filmes de que participaram.\n",
    "- actor_id : Chave Estrangeira, número inteiro, identifica unicamente os atores\n",
    "- movie_id : Chave Estrangeira, número inteiro, identifca o filme.\n",
    "\n",
    "2. **fat_movie_genres**: Tabela fato com filmes e gêneros atribuídos a eles.\n",
    "- genre_id : Chave Estrangeira, número inteiro, identifica o gênero do filme.\n",
    "- movie_id : Chave Estrangeira, número inteiro, identifca o filme.\n",
    "\n",
    "3. **fat_movie_production_countries**: Tabela fato com filmes e países que estiveram envolvidos em sua produção.\n",
    "- country_id : Chave Estrangeira, número inteiro, identifica país envolvido na produção do filme.\n",
    "- movie_id : Chave Estrangeira, número inteiro, identifca o filme."
   ]
  },
  {
   "cell_type": "markdown",
   "metadata": {},
   "source": [
    "Camada bronze"
   ]
  },
  {
   "attachments": {
    "image.png": {
     "image/png": "[encoded data removed]"
    }
   },
   "cell_type": "markdown",
   "metadata": {},
   "source": [
    "![image.png](attachment:image.png)"
   ]
  },
  {
   "cell_type": "markdown",
   "metadata": {},
   "source": [
    "Camada prata"
   ]
  },
  {
   "attachments": {
    "image.png": {
     "image/png": "[encoded data removed]"
    }
   },
   "cell_type": "markdown",
   "metadata": {},
   "source": [
    "![image.png](attachment:image.png)"
   ]
  },
  {
   "cell_type": "markdown",
   "metadata": {},
   "source": [
    "Camada Ouro"
   ]
  },
  {
   "attachments": {
    "image.png": {
     "image/png": "[encoded data removed]"
    }
   },
   "cell_type": "markdown",
   "metadata": {},
   "source": [
    "![image.png](attachment:image.png)"
   ]
  },
  {
   "cell_type": "code",
   "execution_count": null,
   "metadata": {},
   "outputs": [],
   "source": []
  },
  {
   "cell_type": "markdown",
   "metadata": {
    "application/vnd.databricks.v1+cell": {
     "cellMetadata": {
      "byteLimit": 2048000,
      "rowLimit": 10000
     },
     "inputWidgets": {},
     "nuid": "24386fbb-8455-48d6-bdb6-1047a2581c04",
     "showTitle": false,
     "tableResultSettingsMap": {},
     "title": ""
    }
   },
   "source": [
    "# 4. Carga"
   ]
  },
  {
   "cell_type": "markdown",
   "metadata": {
    "application/vnd.databricks.v1+cell": {
     "cellMetadata": {},
     "inputWidgets": {},
     "nuid": "21cf4a0b-9b51-4edf-b6d8-4f5bfc655d30",
     "showTitle": false,
     "tableResultSettingsMap": {},
     "title": ""
    }
   },
   "source": [
    "## 4.1 Extração"
   ]
  },
  {
   "cell_type": "code",
   "execution_count": 0,
   "metadata": {
    "application/vnd.databricks.v1+cell": {
     "cellMetadata": {
      "byteLimit": 2048000,
      "rowLimit": 10000
     },
     "inputWidgets": {},
     "nuid": "5bb6f651-fb36-4fd8-a434-9f70f03fea97",
     "showTitle": true,
     "tableResultSettingsMap": {},
     "title": "Download de base de elenco"
    }
   },
   "outputs": [],
   "source": [
    "credits_df = pd.DataFrame({})\n",
    "for i in range(16):\n",
    "  url = f\"https://raw.githubusercontent.com/vinicius-souza-lima/mvp_data_engineering/refs/heads/master/dataset/credits/credits_{i+1}.csv\"\n",
    "  credits_df = pd.concat([credits_df,pd.read_csv(url)])"
   ]
  },
  {
   "cell_type": "code",
   "execution_count": 0,
   "metadata": {
    "application/vnd.databricks.v1+cell": {
     "cellMetadata": {
      "byteLimit": 2048000,
      "rowLimit": 10000
     },
     "inputWidgets": {},
     "nuid": "86d5a58a-b22e-41e5-9c77-ad7d74825af1",
     "showTitle": true,
     "tableResultSettingsMap": {},
     "title": "Download da base de filmes"
    }
   },
   "outputs": [],
   "source": [
    "movies_metadata_df = pd.DataFrame({})\n",
    "for i in range(2):\n",
    "  url = f\"https://raw.githubusercontent.com/vinicius-souza-lima/mvp_data_engineering/refs/heads/master/dataset/movies_metadata/movies_metadata_{i+1}.csv\"\n",
    "  movies_metadata_df = pd.concat([movies_metadata_df,pd.read_csv(url)])"
   ]
  },
  {
   "cell_type": "code",
   "execution_count": 0,
   "metadata": {
    "application/vnd.databricks.v1+cell": {
     "cellMetadata": {
      "byteLimit": 2048000,
      "implicitDf": true,
      "rowLimit": 10000
     },
     "inputWidgets": {},
     "nuid": "826a306b-39a2-43bc-86ec-b61cad28ee28",
     "showTitle": true,
     "tableResultSettingsMap": {},
     "title": "Criação da database bronze"
    }
   },
   "outputs": [
    {
     "data": {
      "text/html": [
       "<style scoped>\n",
       "  .table-result-container {\n",
       "    max-height: 300px;\n",
       "    overflow: auto;\n",
       "  }\n",
       "  table, th, td {\n",
       "    border: 1px solid black;\n",
       "    border-collapse: collapse;\n",
       "  }\n",
       "  th, td {\n",
       "    padding: 5px;\n",
       "  }\n",
       "  th {\n",
       "    text-align: left;\n",
       "  }\n",
       "</style><div class='table-result-container'><table class='table-result'><thead style='background-color: white'><tr></tr></thead><tbody></tbody></table></div>"
      ]
     },
     "metadata": {
      "application/vnd.databricks.v1+output": {
       "addedWidgets": {},
       "aggData": [],
       "aggError": "",
       "aggOverflow": false,
       "aggSchema": [],
       "aggSeriesLimitReached": false,
       "aggType": "",
       "arguments": {},
       "columnCustomDisplayInfos": {},
       "data": [],
       "datasetInfos": [],
       "dbfsResultPath": null,
       "isJsonSchema": true,
       "metadata": {},
       "overflow": false,
       "plotOptions": {
        "customPlotOptions": {},
        "displayType": "table",
        "pivotAggregation": null,
        "pivotColumns": null,
        "xColumns": null,
        "yColumns": null
       },
       "removedWidgets": [],
       "schema": [],
       "type": "table"
      }
     },
     "output_type": "display_data"
    }
   ],
   "source": [
    "%sql CREATE DATABASE IF NOT EXISTS bronze;"
   ]
  },
  {
   "cell_type": "code",
   "execution_count": 0,
   "metadata": {
    "application/vnd.databricks.v1+cell": {
     "cellMetadata": {
      "byteLimit": 2048000,
      "rowLimit": 10000
     },
     "inputWidgets": {},
     "nuid": "632a5648-fa19-4fdb-9f5c-088692948534",
     "showTitle": true,
     "tableResultSettingsMap": {},
     "title": "Criação da base credits"
    }
   },
   "outputs": [],
   "source": [
    "credits_spark_df = spark.createDataFrame(credits_df)\n",
    "credits_spark_df.write.mode(\"overwrite\").saveAsTable(\"bronze.credits\")"
   ]
  },
  {
   "cell_type": "code",
   "execution_count": 0,
   "metadata": {
    "application/vnd.databricks.v1+cell": {
     "cellMetadata": {
      "byteLimit": 2048000,
      "rowLimit": 10000
     },
     "inputWidgets": {},
     "nuid": "70ff7bd1-9bd5-4d74-b3e5-10e3176a8a18",
     "showTitle": true,
     "tableResultSettingsMap": {},
     "title": "Criação da base movies_metadata"
    }
   },
   "outputs": [
    {
     "name": "stderr",
     "output_type": "stream",
     "text": [
      "/databricks/spark/python/pyspark/sql/pandas/conversion.py:467: UserWarning: createDataFrame attempted Arrow optimization because 'spark.sql.execution.arrow.pyspark.enabled' is set to true; however, failed by the reason below:\n",
      "  Could not convert '0.785591' with type str: tried to convert to double\n",
      "Attempting non-optimization as 'spark.sql.execution.arrow.pyspark.fallback.enabled' is set to true.\n",
      "  warn(msg)\n"
     ]
    }
   ],
   "source": [
    "movies_metadata_df[\"video\"] = movies_metadata_df[\"video\"].astype(str)\n",
    "movies_metadata_spark_df = spark.createDataFrame(movies_metadata_df)\n",
    "movies_metadata_spark_df.write.mode(\"overwrite\").saveAsTable(\"bronze.movies_metadata_v2\")"
   ]
  },
  {
   "cell_type": "markdown",
   "metadata": {
    "application/vnd.databricks.v1+cell": {
     "cellMetadata": {},
     "inputWidgets": {},
     "nuid": "50f5312e-d3b7-4db9-b54e-781b80be2661",
     "showTitle": false,
     "tableResultSettingsMap": {},
     "title": ""
    }
   },
   "source": [
    "## 4.2 Transformação e carregamento"
   ]
  },
  {
   "cell_type": "code",
   "execution_count": 0,
   "metadata": {
    "application/vnd.databricks.v1+cell": {
     "cellMetadata": {
      "byteLimit": 2048000,
      "implicitDf": true,
      "rowLimit": 10000
     },
     "inputWidgets": {},
     "nuid": "80601d45-de89-43fe-a220-981cc742b870",
     "showTitle": false,
     "tableResultSettingsMap": {},
     "title": ""
    }
   },
   "outputs": [
    {
     "data": {
      "text/html": [
       "<style scoped>\n",
       "  .table-result-container {\n",
       "    max-height: 300px;\n",
       "    overflow: auto;\n",
       "  }\n",
       "  table, th, td {\n",
       "    border: 1px solid black;\n",
       "    border-collapse: collapse;\n",
       "  }\n",
       "  th, td {\n",
       "    padding: 5px;\n",
       "  }\n",
       "  th {\n",
       "    text-align: left;\n",
       "  }\n",
       "</style><div class='table-result-container'><table class='table-result'><thead style='background-color: white'><tr></tr></thead><tbody></tbody></table></div>"
      ]
     },
     "metadata": {
      "application/vnd.databricks.v1+output": {
       "addedWidgets": {},
       "aggData": [],
       "aggError": "",
       "aggOverflow": false,
       "aggSchema": [],
       "aggSeriesLimitReached": false,
       "aggType": "",
       "arguments": {},
       "columnCustomDisplayInfos": {},
       "data": [],
       "datasetInfos": [],
       "dbfsResultPath": null,
       "isJsonSchema": true,
       "metadata": {},
       "overflow": false,
       "plotOptions": {
        "customPlotOptions": {},
        "displayType": "table",
        "pivotAggregation": null,
        "pivotColumns": null,
        "xColumns": null,
        "yColumns": null
       },
       "removedWidgets": [],
       "schema": [],
       "type": "table"
      }
     },
     "output_type": "display_data"
    }
   ],
   "source": [
    "%sql CREATE DATABASE IF NOT EXISTS silver"
   ]
  },
  {
   "cell_type": "code",
   "execution_count": 0,
   "metadata": {
    "application/vnd.databricks.v1+cell": {
     "cellMetadata": {
      "byteLimit": 2048000,
      "rowLimit": 10000
     },
     "inputWidgets": {},
     "nuid": "9e25235f-1d70-4765-be78-b3caef8edd4e",
     "showTitle": true,
     "tableResultSettingsMap": {},
     "title": "Parsing da coluna \"genres\""
    }
   },
   "outputs": [],
   "source": [
    "# Define o schema da lista de gêneros\n",
    "genre_schema = ArrayType(\n",
    "    StructType([\n",
    "        StructField(\"id\", IntegerType(), True),\n",
    "        StructField(\"name\", StringType(), True)\n",
    "    ])\n",
    ")\n",
    "\n",
    "# Converte a string JSON para um array de structs\n",
    "movies_metadata_spark_df = movies_metadata_spark_df.withColumn(\"genres\", from_json(col(\"genres\"), genre_schema))\n",
    "movies_with_genre_spark_df = movies_metadata_spark_df.withColumn(\"genres\",explode(col(\"genres\")))"
   ]
  },
  {
   "cell_type": "code",
   "execution_count": 0,
   "metadata": {
    "application/vnd.databricks.v1+cell": {
     "cellMetadata": {
      "byteLimit": 2048000,
      "rowLimit": 10000
     },
     "inputWidgets": {},
     "nuid": "dfc095bb-c3f6-4fb1-994b-8f5dad34e6ff",
     "showTitle": true,
     "tableResultSettingsMap": {},
     "title": "Criação da dimensão de gêneros"
    }
   },
   "outputs": [],
   "source": [
    "dim_genres_spark_df = movies_with_genre_spark_df.select(\n",
    "    col(\"genres.id\").cast(\"bigint\").alias(\"genre_id\"),\n",
    "    col(\"genres.name\").cast(\"bigint\").alias(\"genre_name\")\n",
    ").distinct()"
   ]
  },
  {
   "cell_type": "code",
   "execution_count": 0,
   "metadata": {
    "application/vnd.databricks.v1+cell": {
     "cellMetadata": {
      "byteLimit": 2048000,
      "rowLimit": 10000
     },
     "inputWidgets": {},
     "nuid": "34a3ceea-8c41-4164-a693-dd9ac33f07b4",
     "showTitle": true,
     "tableResultSettingsMap": {},
     "title": "Salvamento da dimensão de gêneros"
    }
   },
   "outputs": [],
   "source": [
    "dim_genres_spark_df.write.mode(\"overwrite\").saveAsTable(\"silver.dim_genres_v2\")"
   ]
  },
  {
   "cell_type": "code",
   "execution_count": 0,
   "metadata": {
    "application/vnd.databricks.v1+cell": {
     "cellMetadata": {
      "byteLimit": 2048000,
      "rowLimit": 10000
     },
     "inputWidgets": {},
     "nuid": "51be2b58-b108-4fbd-88bc-d09791eaca67",
     "showTitle": true,
     "tableResultSettingsMap": {},
     "title": "Criação da tabela fato de gêneros de filmes"
    }
   },
   "outputs": [],
   "source": [
    "fat_movie_genres = movies_with_genre_spark_df.select(\n",
    "    col(\"id\").cast(\"bigint\").alias(\"movie_id\"),\n",
    "    col(\"genres.id\").cast(\"bigint\").alias(\"genre_id\")\n",
    ")"
   ]
  },
  {
   "cell_type": "code",
   "execution_count": 0,
   "metadata": {
    "application/vnd.databricks.v1+cell": {
     "cellMetadata": {
      "byteLimit": 2048000,
      "rowLimit": 10000
     },
     "inputWidgets": {},
     "nuid": "9909d006-6251-4fed-ad4e-ba607ed60502",
     "showTitle": true,
     "tableResultSettingsMap": {},
     "title": "Salvamento da fato fat_movie_genres"
    }
   },
   "outputs": [],
   "source": [
    "fat_movie_genres.write.mode(\"overwrite\").saveAsTable(\"silver.fat_movie_genres\")"
   ]
  },
  {
   "cell_type": "code",
   "execution_count": 0,
   "metadata": {
    "application/vnd.databricks.v1+cell": {
     "cellMetadata": {
      "byteLimit": 2048000,
      "rowLimit": 10000
     },
     "inputWidgets": {},
     "nuid": "c4c3ab25-8728-4add-baca-c1a368c50317",
     "showTitle": true,
     "tableResultSettingsMap": {},
     "title": "Parsing da coluna  production_countries"
    }
   },
   "outputs": [],
   "source": [
    "# Define o schema da lista de gêneros\n",
    "production_countries_schema = ArrayType(\n",
    "    StructType([\n",
    "        StructField(\"iso_3166_1\", StringType(), True),\n",
    "        StructField(\"name\", StringType(), True)\n",
    "    ])\n",
    ")\n",
    "\n",
    "# Converte a string JSON para um array de structs\n",
    "movies_metadata_spark_df = movies_metadata_spark_df.withColumn(\"production_countries\", from_json(col(\"production_countries\"), production_countries_schema))\n",
    "movies_with_production_countries_df = movies_metadata_spark_df.withColumn(\"production_countries\",explode(col(\"production_countries\")))"
   ]
  },
  {
   "cell_type": "code",
   "execution_count": 0,
   "metadata": {
    "application/vnd.databricks.v1+cell": {
     "cellMetadata": {
      "byteLimit": 2048000,
      "rowLimit": 10000
     },
     "inputWidgets": {},
     "nuid": "a0a4aef5-1a05-46c4-83ed-c1f715455370",
     "showTitle": true,
     "tableResultSettingsMap": {},
     "title": "Criação da dimensão de países produtores de filmes"
    }
   },
   "outputs": [],
   "source": [
    "dim_production_countries = movies_with_production_countries_df.select(\n",
    "    col(\"production_countries.iso_3166_1\").alias(\"country_id\"),\n",
    "    col(\"production_countries.name\").alias(\"country_name\")\n",
    ").distinct()"
   ]
  },
  {
   "cell_type": "code",
   "execution_count": 0,
   "metadata": {
    "application/vnd.databricks.v1+cell": {
     "cellMetadata": {
      "byteLimit": 2048000,
      "rowLimit": 10000
     },
     "inputWidgets": {},
     "nuid": "09ae4a56-1604-4002-b1c8-565074251cae",
     "showTitle": true,
     "tableResultSettingsMap": {},
     "title": "Salvamento da dim_production_countries"
    }
   },
   "outputs": [],
   "source": [
    "dim_production_countries.write.mode(\"overwrite\").saveAsTable(\"silver.dim_production_countries_v2\")"
   ]
  },
  {
   "cell_type": "code",
   "execution_count": 0,
   "metadata": {
    "application/vnd.databricks.v1+cell": {
     "cellMetadata": {
      "byteLimit": 2048000,
      "rowLimit": 10000
     },
     "inputWidgets": {},
     "nuid": "483b26a0-015a-45ad-a13f-0359d660ca01",
     "showTitle": true,
     "tableResultSettingsMap": {},
     "title": "Criação da fato de países produtores de filmes"
    }
   },
   "outputs": [],
   "source": [
    "fat_movie_production_countries = movies_with_production_countries_df.select(\n",
    "    col(\"id\").cast(\"bigint\").alias(\"movie_id\"),\n",
    "    col(\"production_countries.iso_3166_1\").alias(\"country_id\")\n",
    ")"
   ]
  },
  {
   "cell_type": "code",
   "execution_count": 0,
   "metadata": {
    "application/vnd.databricks.v1+cell": {
     "cellMetadata": {
      "byteLimit": 2048000,
      "rowLimit": 10000
     },
     "inputWidgets": {},
     "nuid": "94254bd7-49ad-4ddf-9d76-2a6d6773f86b",
     "showTitle": true,
     "tableResultSettingsMap": {},
     "title": "Salvamento da fat_movie_production_countries"
    }
   },
   "outputs": [],
   "source": [
    "fat_movie_production_countries.write.mode(\"overwrite\").saveAsTable(\"silver.fat_movie_production_countries\")"
   ]
  },
  {
   "cell_type": "code",
   "execution_count": 0,
   "metadata": {
    "application/vnd.databricks.v1+cell": {
     "cellMetadata": {
      "byteLimit": 2048000,
      "rowLimit": 10000
     },
     "inputWidgets": {},
     "nuid": "3ed7182d-725c-41a6-9246-06b8898f1b54",
     "showTitle": true,
     "tableResultSettingsMap": {},
     "title": "Parsing da coluna  cast"
    }
   },
   "outputs": [],
   "source": [
    "# Define o schema da lista de gêneros\n",
    "cast_schema = ArrayType(\n",
    "    StructType([\n",
    "    StructField(\"cast_id\", IntegerType(), True),\n",
    "    StructField(\"character\", StringType(), True),\n",
    "    StructField(\"credit_id\", StringType(), True),\n",
    "    StructField(\"gender\", IntegerType(), True),\n",
    "    StructField(\"id\", IntegerType(), True),\n",
    "    StructField(\"name\", StringType(), True),\n",
    "    StructField(\"order\", IntegerType(), True),\n",
    "    StructField(\"profile_path\", StringType(), True)\n",
    "])\n",
    ")\n",
    "\n",
    "# Converte a string JSON para um array de structs\n",
    "credits_spark_df = credits_spark_df.withColumn(\"cast\", from_json(col(\"cast\"), cast_schema))\n",
    "credits_spark_with_cast_df = credits_spark_df.withColumn(\"cast\",explode(col(\"cast\")))"
   ]
  },
  {
   "cell_type": "code",
   "execution_count": 0,
   "metadata": {
    "application/vnd.databricks.v1+cell": {
     "cellMetadata": {
      "byteLimit": 2048000,
      "rowLimit": 10000
     },
     "inputWidgets": {},
     "nuid": "954e5126-e770-4ada-95f4-e504de17cc67",
     "showTitle": true,
     "tableResultSettingsMap": {},
     "title": "Criação da dimensão dos atores"
    }
   },
   "outputs": [],
   "source": [
    "dim_actors = credits_spark_with_cast_df.select(\n",
    "    col(\"cast.id\").alias(\"actor_id\"),\n",
    "    col(\"cast.gender\").alias(\"actor_gender\"),\n",
    "    col(\"cast.name\").alias(\"name\")\n",
    ").distinct()"
   ]
  },
  {
   "cell_type": "code",
   "execution_count": 0,
   "metadata": {
    "application/vnd.databricks.v1+cell": {
     "cellMetadata": {
      "byteLimit": 2048000,
      "rowLimit": 10000
     },
     "inputWidgets": {},
     "nuid": "7ea10f01-c851-410e-a835-d99ddcc307a5",
     "showTitle": true,
     "tableResultSettingsMap": {},
     "title": "Salvamento da dimensão de atores"
    }
   },
   "outputs": [],
   "source": [
    "dim_actors.write.mode(\"overwrite\").saveAsTable(\"silver.dim_actors\")"
   ]
  },
  {
   "cell_type": "code",
   "execution_count": 0,
   "metadata": {
    "application/vnd.databricks.v1+cell": {
     "cellMetadata": {
      "byteLimit": 2048000,
      "rowLimit": 10000
     },
     "inputWidgets": {},
     "nuid": "a9eb857a-97ad-45ee-a8b8-6cccf6f3634e",
     "showTitle": true,
     "tableResultSettingsMap": {},
     "title": "Criação da fato dos atores nos filmes"
    }
   },
   "outputs": [],
   "source": [
    "fat_movie_cast = credits_spark_with_cast_df.select(\n",
    "    col(\"id\").alias(\"movie_id\"),\n",
    "    col(\"cast.id\").alias(\"actor_id\")\n",
    ")"
   ]
  },
  {
   "cell_type": "code",
   "execution_count": 0,
   "metadata": {
    "application/vnd.databricks.v1+cell": {
     "cellMetadata": {
      "byteLimit": 2048000,
      "rowLimit": 10000
     },
     "inputWidgets": {},
     "nuid": "bf2ff44f-aab5-46bf-8050-c39b20737e39",
     "showTitle": true,
     "tableResultSettingsMap": {},
     "title": "Salvamento da fato de atores"
    }
   },
   "outputs": [],
   "source": [
    "fat_movie_cast.write.mode(\"overwrite\").saveAsTable(\"silver.fat_movie_cast\")"
   ]
  },
  {
   "cell_type": "code",
   "execution_count": 0,
   "metadata": {
    "application/vnd.databricks.v1+cell": {
     "cellMetadata": {
      "byteLimit": 2048000,
      "rowLimit": 10000
     },
     "inputWidgets": {},
     "nuid": "1e326e23-85e9-442f-8f1e-7f893862ed3b",
     "showTitle": true,
     "tableResultSettingsMap": {},
     "title": "Retirada de colunas não utlizadas na dimensão de filmes"
    }
   },
   "outputs": [],
   "source": [
    "movies_metadata_spark_df = movies_metadata_spark_df.drop(\"genres\",\"production_companies\",\"production_countries\",\"homepage\",\"poster_path\",\"original_language\",\"spoken_languages\",\"imdb_id\",\"overview\",\"tagline\",\"runtime\",\"video\",\"budget\",\"revenue\",\"popularity\",\"original_title\",\"belongs_to_collection\")\n"
   ]
  },
  {
   "cell_type": "code",
   "execution_count": 0,
   "metadata": {
    "application/vnd.databricks.v1+cell": {
     "cellMetadata": {
      "byteLimit": 2048000,
      "rowLimit": 10000
     },
     "inputWidgets": {},
     "nuid": "1deb3671-bb0a-4e25-8d4c-85a938c3abc5",
     "showTitle": true,
     "tableResultSettingsMap": {},
     "title": "Salvamento da dimensão de filmes"
    }
   },
   "outputs": [],
   "source": [
    "movies_metadata_spark_df.write.format(\"delta\").mode(\"overwrite\").saveAsTable(\"silver.dim_movies_v6\")"
   ]
  },
  {
   "cell_type": "markdown",
   "metadata": {
    "application/vnd.databricks.v1+cell": {
     "cellMetadata": {
      "byteLimit": 2048000,
      "rowLimit": 10000
     },
     "inputWidgets": {},
     "nuid": "1ab26ff0-0752-4990-bf93-2c0ba380d812",
     "showTitle": false,
     "tableResultSettingsMap": {},
     "title": ""
    }
   },
   "source": [
    "# 5. Análise"
   ]
  },
  {
   "cell_type": "markdown",
   "metadata": {
    "application/vnd.databricks.v1+cell": {
     "cellMetadata": {
      "byteLimit": 2048000,
      "rowLimit": 10000
     },
     "inputWidgets": {},
     "nuid": "61fd3ad2-bb20-45a1-b0a0-2e5e79d67522",
     "showTitle": false,
     "tableResultSettingsMap": {},
     "title": ""
    }
   },
   "source": [
    "## 5.1. Qualidade dos Dados"
   ]
  },
  {
   "cell_type": "code",
   "execution_count": 0,
   "metadata": {
    "application/vnd.databricks.v1+cell": {
     "cellMetadata": {
      "byteLimit": 2048000,
      "implicitDf": true,
      "rowLimit": 10000
     },
     "inputWidgets": {},
     "nuid": "9abdd8d1-e06c-45ce-9cc2-4a769bca3000",
     "showTitle": false,
     "tableResultSettingsMap": {},
     "title": ""
    }
   },
   "outputs": [
    {
     "data": {
      "text/html": [
       "<style scoped>\n",
       "  .table-result-container {\n",
       "    max-height: 300px;\n",
       "    overflow: auto;\n",
       "  }\n",
       "  table, th, td {\n",
       "    border: 1px solid black;\n",
       "    border-collapse: collapse;\n",
       "  }\n",
       "  th, td {\n",
       "    padding: 5px;\n",
       "  }\n",
       "  th {\n",
       "    text-align: left;\n",
       "  }\n",
       "</style><div class='table-result-container'><table class='table-result'><thead style='background-color: white'><tr><th>actor_id</th><th>actor_gender</th><th>name</th></tr></thead><tbody><tr><td>17770</td><td>2</td><td>Kevin Tighe</td></tr><tr><td>925</td><td>2</td><td>Paul Guilfoyle</td></tr><tr><td>658</td><td>2</td><td>Alfred Molina</td></tr><tr><td>305332</td><td>2</td><td>Masumi Okada</td></tr><tr><td>3905</td><td>2</td><td>William H. Macy</td></tr><tr><td>19728</td><td>2</td><td>Mark Harmon</td></tr><tr><td>1218048</td><td>2</td><td>Randle Mell</td></tr><tr><td>693</td><td>0</td><td>Roshan Seth</td></tr><tr><td>4093</td><td>2</td><td>Ray Walston</td></tr><tr><td>13992</td><td>1</td><td>Mary Astor</td></tr></tbody></table></div>"
      ]
     },
     "metadata": {
      "application/vnd.databricks.v1+output": {
       "addedWidgets": {},
       "aggData": [],
       "aggError": "",
       "aggOverflow": false,
       "aggSchema": [],
       "aggSeriesLimitReached": false,
       "aggType": "",
       "arguments": {},
       "columnCustomDisplayInfos": {},
       "data": [
        [
         17770,
         2,
         "Kevin Tighe"
        ],
        [
         925,
         2,
         "Paul Guilfoyle"
        ],
        [
         658,
         2,
         "Alfred Molina"
        ],
        [
         305332,
         2,
         "Masumi Okada"
        ],
        [
         3905,
         2,
         "William H. Macy"
        ],
        [
         19728,
         2,
         "Mark Harmon"
        ],
        [
         1218048,
         2,
         "Randle Mell"
        ],
        [
         693,
         0,
         "Roshan Seth"
        ],
        [
         4093,
         2,
         "Ray Walston"
        ],
        [
         13992,
         1,
         "Mary Astor"
        ]
       ],
       "datasetInfos": [],
       "dbfsResultPath": null,
       "isJsonSchema": true,
       "metadata": {},
       "overflow": false,
       "plotOptions": {
        "customPlotOptions": {},
        "displayType": "table",
        "pivotAggregation": null,
        "pivotColumns": null,
        "xColumns": null,
        "yColumns": null
       },
       "removedWidgets": [],
       "schema": [
        {
         "metadata": "{}",
         "name": "actor_id",
         "type": "\"integer\""
        },
        {
         "metadata": "{}",
         "name": "actor_gender",
         "type": "\"integer\""
        },
        {
         "metadata": "{}",
         "name": "name",
         "type": "\"string\""
        }
       ],
       "type": "table"
      }
     },
     "output_type": "display_data"
    }
   ],
   "source": [
    "%sql SELECT * FROM silver.dim_actors LIMIT 10"
   ]
  },
  {
   "cell_type": "code",
   "execution_count": 0,
   "metadata": {
    "application/vnd.databricks.v1+cell": {
     "cellMetadata": {
      "byteLimit": 2048000,
      "implicitDf": true,
      "rowLimit": 10000
     },
     "inputWidgets": {},
     "nuid": "245459df-2906-416d-9068-babeda021254",
     "showTitle": true,
     "tableResultSettingsMap": {},
     "title": "Verificação de nulos na dimensão de atores"
    }
   },
   "outputs": [
    {
     "data": {
      "text/html": [
       "<style scoped>\n",
       "  .table-result-container {\n",
       "    max-height: 300px;\n",
       "    overflow: auto;\n",
       "  }\n",
       "  table, th, td {\n",
       "    border: 1px solid black;\n",
       "    border-collapse: collapse;\n",
       "  }\n",
       "  th, td {\n",
       "    padding: 5px;\n",
       "  }\n",
       "  th {\n",
       "    text-align: left;\n",
       "  }\n",
       "</style><div class='table-result-container'><table class='table-result'><thead style='background-color: white'><tr><th>total_rows</th><th>column1_null_count</th><th>column2_null_count</th><th>column3_null_count</th></tr></thead><tbody><tr><td>38856</td><td>0</td><td>0</td><td>0</td></tr></tbody></table></div>"
      ]
     },
     "metadata": {
      "application/vnd.databricks.v1+output": {
       "addedWidgets": {},
       "aggData": [],
       "aggError": "",
       "aggOverflow": false,
       "aggSchema": [],
       "aggSeriesLimitReached": false,
       "aggType": "",
       "arguments": {},
       "columnCustomDisplayInfos": {},
       "data": [
        [
         38856,
         0,
         0,
         0
        ]
       ],
       "datasetInfos": [],
       "dbfsResultPath": null,
       "isJsonSchema": true,
       "metadata": {},
       "overflow": false,
       "plotOptions": {
        "customPlotOptions": {},
        "displayType": "table",
        "pivotAggregation": null,
        "pivotColumns": null,
        "xColumns": null,
        "yColumns": null
       },
       "removedWidgets": [],
       "schema": [
        {
         "metadata": "{}",
         "name": "total_rows",
         "type": "\"long\""
        },
        {
         "metadata": "{}",
         "name": "column1_null_count",
         "type": "\"long\""
        },
        {
         "metadata": "{}",
         "name": "column2_null_count",
         "type": "\"long\""
        },
        {
         "metadata": "{}",
         "name": "column3_null_count",
         "type": "\"long\""
        }
       ],
       "type": "table"
      }
     },
     "output_type": "display_data"
    }
   ],
   "source": [
    "%sql\n",
    "SELECT\n",
    "  COUNT(*) AS total_rows,\n",
    "  COUNT(CASE WHEN actor_id IS NULL THEN 1 END) AS column1_null_count,\n",
    "  COUNT(CASE WHEN actor_gender IS NULL THEN 1 END) AS column2_null_count,\n",
    "  COUNT(CASE WHEN name IS NULL THEN 1 END) AS column3_null_count\n",
    "  -- Adicione mais colunas conforme necessário\n",
    "FROM silver.dim_actors"
   ]
  },
  {
   "cell_type": "markdown",
   "metadata": {
    "application/vnd.databricks.v1+cell": {
     "cellMetadata": {},
     "inputWidgets": {},
     "nuid": "16a9f11e-968a-4ffe-9dd9-a580f89b8240",
     "showTitle": false,
     "tableResultSettingsMap": {},
     "title": ""
    }
   },
   "source": [
    "Da query acima encontramos que não existem valores nulos na tabela. No entanto, analisando as porcentagens, percebe-se que parte significativa é de indeterminados, que devem ser desconsiderados na análise."
   ]
  },
  {
   "cell_type": "code",
   "execution_count": 0,
   "metadata": {
    "application/vnd.databricks.v1+cell": {
     "cellMetadata": {
      "byteLimit": 2048000,
      "implicitDf": true,
      "rowLimit": 10000
     },
     "inputWidgets": {},
     "nuid": "41badaa6-0293-4aa7-bb01-cecb3242fa62",
     "showTitle": true,
     "tableResultSettingsMap": {},
     "title": "Frequências da dimensão de atores"
    }
   },
   "outputs": [
    {
     "data": {
      "text/html": [
       "<style scoped>\n",
       "  .table-result-container {\n",
       "    max-height: 300px;\n",
       "    overflow: auto;\n",
       "  }\n",
       "  table, th, td {\n",
       "    border: 1px solid black;\n",
       "    border-collapse: collapse;\n",
       "  }\n",
       "  th, td {\n",
       "    padding: 5px;\n",
       "  }\n",
       "  th {\n",
       "    text-align: left;\n",
       "  }\n",
       "</style><div class='table-result-container'><table class='table-result'><thead style='background-color: white'><tr><th>actor_gender</th><th>frequencia</th><th>porcentagem</th></tr></thead><tbody><tr><td>2</td><td>15562</td><td>40.05</td></tr><tr><td>0</td><td>13264</td><td>34.14</td></tr><tr><td>1</td><td>10030</td><td>25.81</td></tr></tbody></table></div>"
      ]
     },
     "metadata": {
      "application/vnd.databricks.v1+output": {
       "addedWidgets": {},
       "aggData": [],
       "aggError": "",
       "aggOverflow": false,
       "aggSchema": [],
       "aggSeriesLimitReached": false,
       "aggType": "",
       "arguments": {},
       "columnCustomDisplayInfos": {},
       "data": [
        [
         2,
         15562,
         40.05
        ],
        [
         0,
         13264,
         34.14
        ],
        [
         1,
         10030,
         25.81
        ]
       ],
       "datasetInfos": [],
       "dbfsResultPath": null,
       "isJsonSchema": true,
       "metadata": {},
       "overflow": false,
       "plotOptions": {
        "customPlotOptions": {},
        "displayType": "table",
        "pivotAggregation": null,
        "pivotColumns": null,
        "xColumns": null,
        "yColumns": null
       },
       "removedWidgets": [],
       "schema": [
        {
         "metadata": "{}",
         "name": "actor_gender",
         "type": "\"integer\""
        },
        {
         "metadata": "{}",
         "name": "frequencia",
         "type": "\"long\""
        },
        {
         "metadata": "{}",
         "name": "porcentagem",
         "type": "\"double\""
        }
       ],
       "type": "table"
      }
     },
     "output_type": "display_data"
    }
   ],
   "source": [
    "%sql \n",
    "SELECT actor_gender,\n",
    "COUNT(*) AS frequencia,\n",
    "ROUND(COUNT(*)*100/(SELECT COUNT(*) FROM silver.dim_actors),2) AS porcentagem\n",
    "FROM silver.dim_actors\n",
    "GROUP BY actor_gender\n",
    "ORDER BY frequencia DESC"
   ]
  },
  {
   "cell_type": "code",
   "execution_count": 0,
   "metadata": {
    "application/vnd.databricks.v1+cell": {
     "cellMetadata": {
      "byteLimit": 2048000,
      "implicitDf": true,
      "rowLimit": 10000
     },
     "inputWidgets": {},
     "nuid": "91d67ab0-8113-47fc-b327-9c4503cce6ea",
     "showTitle": true,
     "tableResultSettingsMap": {},
     "title": "Codigo 0, tem tanto homens quanto mulheres"
    }
   },
   "outputs": [
    {
     "data": {
      "text/html": [
       "<style scoped>\n",
       "  .table-result-container {\n",
       "    max-height: 300px;\n",
       "    overflow: auto;\n",
       "  }\n",
       "  table, th, td {\n",
       "    border: 1px solid black;\n",
       "    border-collapse: collapse;\n",
       "  }\n",
       "  th, td {\n",
       "    padding: 5px;\n",
       "  }\n",
       "  th {\n",
       "    text-align: left;\n",
       "  }\n",
       "</style><div class='table-result-container'><table class='table-result'><thead style='background-color: white'><tr><th>actor_id</th><th>actor_gender</th><th>name</th></tr></thead><tbody><tr><td>693</td><td>0</td><td>Roshan Seth</td></tr><tr><td>1072036</td><td>0</td><td>Sydni Beaudoin</td></tr><tr><td>89728</td><td>0</td><td>Cliff Clark</td></tr><tr><td>1573198</td><td>0</td><td>Cori Wellins</td></tr><tr><td>122546</td><td>0</td><td>Al Palagonia</td></tr><tr><td>84598</td><td>0</td><td>Robert Hy Gorman</td></tr><tr><td>94942</td><td>0</td><td>Charles Granval</td></tr><tr><td>8480</td><td>0</td><td>Tamara Ogorodnikova</td></tr><tr><td>1083422</td><td>0</td><td>Malcolm 'Bud' McTaggart</td></tr><tr><td>57392</td><td>0</td><td>Michael Chambers</td></tr></tbody></table></div>"
      ]
     },
     "metadata": {
      "application/vnd.databricks.v1+output": {
       "addedWidgets": {},
       "aggData": [],
       "aggError": "",
       "aggOverflow": false,
       "aggSchema": [],
       "aggSeriesLimitReached": false,
       "aggType": "",
       "arguments": {},
       "columnCustomDisplayInfos": {},
       "data": [
        [
         693,
         0,
         "Roshan Seth"
        ],
        [
         1072036,
         0,
         "Sydni Beaudoin"
        ],
        [
         89728,
         0,
         "Cliff Clark"
        ],
        [
         1573198,
         0,
         "Cori Wellins"
        ],
        [
         122546,
         0,
         "Al Palagonia"
        ],
        [
         84598,
         0,
         "Robert Hy Gorman"
        ],
        [
         94942,
         0,
         "Charles Granval"
        ],
        [
         8480,
         0,
         "Tamara Ogorodnikova"
        ],
        [
         1083422,
         0,
         "Malcolm 'Bud' McTaggart"
        ],
        [
         57392,
         0,
         "Michael Chambers"
        ]
       ],
       "datasetInfos": [],
       "dbfsResultPath": null,
       "isJsonSchema": true,
       "metadata": {},
       "overflow": false,
       "plotOptions": {
        "customPlotOptions": {},
        "displayType": "table",
        "pivotAggregation": null,
        "pivotColumns": null,
        "xColumns": null,
        "yColumns": null
       },
       "removedWidgets": [],
       "schema": [
        {
         "metadata": "{}",
         "name": "actor_id",
         "type": "\"integer\""
        },
        {
         "metadata": "{}",
         "name": "actor_gender",
         "type": "\"integer\""
        },
        {
         "metadata": "{}",
         "name": "name",
         "type": "\"string\""
        }
       ],
       "type": "table"
      }
     },
     "output_type": "display_data"
    }
   ],
   "source": [
    "%sql \n",
    "SELECT * \n",
    "FROM silver.dim_actors\n",
    "WHERE actor_gender = 0\n",
    "LIMIT 10"
   ]
  },
  {
   "cell_type": "markdown",
   "metadata": {
    "application/vnd.databricks.v1+cell": {
     "cellMetadata": {},
     "inputWidgets": {},
     "nuid": "3a8a2c69-6bba-4bef-b964-dc48f9908dd6",
     "showTitle": false,
     "tableResultSettingsMap": {},
     "title": ""
    }
   },
   "source": [
    "Por exemplo Rashan Seth era homem, Sydni Beaudoin era mulher, Charles Granval era homem"
   ]
  },
  {
   "cell_type": "code",
   "execution_count": 0,
   "metadata": {
    "application/vnd.databricks.v1+cell": {
     "cellMetadata": {
      "byteLimit": 2048000,
      "implicitDf": true,
      "rowLimit": 10000
     },
     "inputWidgets": {},
     "nuid": "01c978a8-a29a-472c-b902-0d163fa78bed",
     "showTitle": true,
     "tableResultSettingsMap": {},
     "title": "Codigo 1 ,somente mulheres"
    }
   },
   "outputs": [
    {
     "data": {
      "text/html": [
       "<style scoped>\n",
       "  .table-result-container {\n",
       "    max-height: 300px;\n",
       "    overflow: auto;\n",
       "  }\n",
       "  table, th, td {\n",
       "    border: 1px solid black;\n",
       "    border-collapse: collapse;\n",
       "  }\n",
       "  th, td {\n",
       "    padding: 5px;\n",
       "  }\n",
       "  th {\n",
       "    text-align: left;\n",
       "  }\n",
       "</style><div class='table-result-container'><table class='table-result'><thead style='background-color: white'><tr><th>actor_id</th><th>actor_gender</th><th>name</th></tr></thead><tbody><tr><td>13992</td><td>1</td><td>Mary Astor</td></tr><tr><td>153254</td><td>1</td><td>Vivian Vance</td></tr><tr><td>170146</td><td>1</td><td>Kim Flowers</td></tr><tr><td>2229</td><td>1</td><td>Catherine Keener</td></tr><tr><td>1060422</td><td>1</td><td>Lily Allen</td></tr><tr><td>28933</td><td>1</td><td>Jean Stapleton</td></tr><tr><td>34407</td><td>1</td><td>Rusty Schwimmer</td></tr><tr><td>96408</td><td>1</td><td>Rosemary Leach</td></tr><tr><td>30978</td><td>1</td><td>Charlotte Austin</td></tr><tr><td>47080</td><td>1</td><td>Gloria Talbott</td></tr></tbody></table></div>"
      ]
     },
     "metadata": {
      "application/vnd.databricks.v1+output": {
       "addedWidgets": {},
       "aggData": [],
       "aggError": "",
       "aggOverflow": false,
       "aggSchema": [],
       "aggSeriesLimitReached": false,
       "aggType": "",
       "arguments": {},
       "columnCustomDisplayInfos": {},
       "data": [
        [
         13992,
         1,
         "Mary Astor"
        ],
        [
         153254,
         1,
         "Vivian Vance"
        ],
        [
         170146,
         1,
         "Kim Flowers"
        ],
        [
         2229,
         1,
         "Catherine Keener"
        ],
        [
         1060422,
         1,
         "Lily Allen"
        ],
        [
         28933,
         1,
         "Jean Stapleton"
        ],
        [
         34407,
         1,
         "Rusty Schwimmer"
        ],
        [
         96408,
         1,
         "Rosemary Leach"
        ],
        [
         30978,
         1,
         "Charlotte Austin"
        ],
        [
         47080,
         1,
         "Gloria Talbott"
        ]
       ],
       "datasetInfos": [],
       "dbfsResultPath": null,
       "isJsonSchema": true,
       "metadata": {},
       "overflow": false,
       "plotOptions": {
        "customPlotOptions": {},
        "displayType": "table",
        "pivotAggregation": null,
        "pivotColumns": null,
        "xColumns": null,
        "yColumns": null
       },
       "removedWidgets": [],
       "schema": [
        {
         "metadata": "{}",
         "name": "actor_id",
         "type": "\"integer\""
        },
        {
         "metadata": "{}",
         "name": "actor_gender",
         "type": "\"integer\""
        },
        {
         "metadata": "{}",
         "name": "name",
         "type": "\"string\""
        }
       ],
       "type": "table"
      }
     },
     "output_type": "display_data"
    }
   ],
   "source": [
    "%sql \n",
    "SELECT * \n",
    "FROM silver.dim_actors\n",
    "WHERE actor_gender = 1\n",
    "LIMIT 10"
   ]
  },
  {
   "cell_type": "code",
   "execution_count": 0,
   "metadata": {
    "application/vnd.databricks.v1+cell": {
     "cellMetadata": {
      "byteLimit": 2048000,
      "implicitDf": true,
      "rowLimit": 10000
     },
     "inputWidgets": {},
     "nuid": "c524c5d6-a4f4-4172-880f-b812824fd81c",
     "showTitle": true,
     "tableResultSettingsMap": {},
     "title": "Codigo 2, somente homens"
    }
   },
   "outputs": [
    {
     "data": {
      "text/html": [
       "<style scoped>\n",
       "  .table-result-container {\n",
       "    max-height: 300px;\n",
       "    overflow: auto;\n",
       "  }\n",
       "  table, th, td {\n",
       "    border: 1px solid black;\n",
       "    border-collapse: collapse;\n",
       "  }\n",
       "  th, td {\n",
       "    padding: 5px;\n",
       "  }\n",
       "  th {\n",
       "    text-align: left;\n",
       "  }\n",
       "</style><div class='table-result-container'><table class='table-result'><thead style='background-color: white'><tr><th>actor_id</th><th>actor_gender</th><th>name</th></tr></thead><tbody><tr><td>17770</td><td>2</td><td>Kevin Tighe</td></tr><tr><td>925</td><td>2</td><td>Paul Guilfoyle</td></tr><tr><td>658</td><td>2</td><td>Alfred Molina</td></tr><tr><td>305332</td><td>2</td><td>Masumi Okada</td></tr><tr><td>3905</td><td>2</td><td>William H. Macy</td></tr><tr><td>19728</td><td>2</td><td>Mark Harmon</td></tr><tr><td>1218048</td><td>2</td><td>Randle Mell</td></tr><tr><td>4093</td><td>2</td><td>Ray Walston</td></tr><tr><td>34715</td><td>2</td><td>James Nesbitt</td></tr><tr><td>92565</td><td>2</td><td>Larry Flynt</td></tr></tbody></table></div>"
      ]
     },
     "metadata": {
      "application/vnd.databricks.v1+output": {
       "addedWidgets": {},
       "aggData": [],
       "aggError": "",
       "aggOverflow": false,
       "aggSchema": [],
       "aggSeriesLimitReached": false,
       "aggType": "",
       "arguments": {},
       "columnCustomDisplayInfos": {},
       "data": [
        [
         17770,
         2,
         "Kevin Tighe"
        ],
        [
         925,
         2,
         "Paul Guilfoyle"
        ],
        [
         658,
         2,
         "Alfred Molina"
        ],
        [
         305332,
         2,
         "Masumi Okada"
        ],
        [
         3905,
         2,
         "William H. Macy"
        ],
        [
         19728,
         2,
         "Mark Harmon"
        ],
        [
         1218048,
         2,
         "Randle Mell"
        ],
        [
         4093,
         2,
         "Ray Walston"
        ],
        [
         34715,
         2,
         "James Nesbitt"
        ],
        [
         92565,
         2,
         "Larry Flynt"
        ]
       ],
       "datasetInfos": [],
       "dbfsResultPath": null,
       "isJsonSchema": true,
       "metadata": {},
       "overflow": false,
       "plotOptions": {
        "customPlotOptions": {},
        "displayType": "table",
        "pivotAggregation": null,
        "pivotColumns": null,
        "xColumns": null,
        "yColumns": null
       },
       "removedWidgets": [],
       "schema": [
        {
         "metadata": "{}",
         "name": "actor_id",
         "type": "\"integer\""
        },
        {
         "metadata": "{}",
         "name": "actor_gender",
         "type": "\"integer\""
        },
        {
         "metadata": "{}",
         "name": "name",
         "type": "\"string\""
        }
       ],
       "type": "table"
      }
     },
     "output_type": "display_data"
    }
   ],
   "source": [
    "%sql \n",
    "SELECT * \n",
    "FROM silver.dim_actors\n",
    "WHERE actor_gender = 2\n",
    "LIMIT 10"
   ]
  },
  {
   "cell_type": "code",
   "execution_count": 0,
   "metadata": {
    "application/vnd.databricks.v1+cell": {
     "cellMetadata": {
      "byteLimit": 2048000,
      "implicitDf": true,
      "rowLimit": 10000
     },
     "inputWidgets": {},
     "nuid": "9bfe2e0d-41fe-4317-992f-b4fa099823ef",
     "showTitle": true,
     "tableResultSettingsMap": {},
     "title": "Verificação de tipos da dimensão de gêneros"
    }
   },
   "outputs": [
    {
     "data": {
      "text/html": [
       "<style scoped>\n",
       "  .table-result-container {\n",
       "    max-height: 300px;\n",
       "    overflow: auto;\n",
       "  }\n",
       "  table, th, td {\n",
       "    border: 1px solid black;\n",
       "    border-collapse: collapse;\n",
       "  }\n",
       "  th, td {\n",
       "    padding: 5px;\n",
       "  }\n",
       "  th {\n",
       "    text-align: left;\n",
       "  }\n",
       "</style><div class='table-result-container'><table class='table-result'><thead style='background-color: white'><tr><th>genre_id</th><th>genre_name</th></tr></thead><tbody><tr><td>12</td><td>Adventure</td></tr><tr><td>14</td><td>Fantasy</td></tr><tr><td>16</td><td>Animation</td></tr><tr><td>18</td><td>Drama</td></tr><tr><td>27</td><td>Horror</td></tr><tr><td>28</td><td>Action</td></tr><tr><td>35</td><td>Comedy</td></tr><tr><td>36</td><td>History</td></tr><tr><td>37</td><td>Western</td></tr><tr><td>53</td><td>Thriller</td></tr></tbody></table></div>"
      ]
     },
     "metadata": {
      "application/vnd.databricks.v1+output": {
       "addedWidgets": {},
       "aggData": [],
       "aggError": "",
       "aggOverflow": false,
       "aggSchema": [],
       "aggSeriesLimitReached": false,
       "aggType": "",
       "arguments": {},
       "columnCustomDisplayInfos": {},
       "data": [
        [
         12,
         "Adventure"
        ],
        [
         14,
         "Fantasy"
        ],
        [
         16,
         "Animation"
        ],
        [
         18,
         "Drama"
        ],
        [
         27,
         "Horror"
        ],
        [
         28,
         "Action"
        ],
        [
         35,
         "Comedy"
        ],
        [
         36,
         "History"
        ],
        [
         37,
         "Western"
        ],
        [
         53,
         "Thriller"
        ]
       ],
       "datasetInfos": [],
       "dbfsResultPath": null,
       "isJsonSchema": true,
       "metadata": {},
       "overflow": false,
       "plotOptions": {
        "customPlotOptions": {},
        "displayType": "table",
        "pivotAggregation": null,
        "pivotColumns": null,
        "xColumns": null,
        "yColumns": null
       },
       "removedWidgets": [],
       "schema": [
        {
         "metadata": "{}",
         "name": "genre_id",
         "type": "\"integer\""
        },
        {
         "metadata": "{}",
         "name": "genre_name",
         "type": "\"string\""
        }
       ],
       "type": "table"
      }
     },
     "output_type": "display_data"
    }
   ],
   "source": [
    "%sql SELECT * FROM silver.dim_genres_v2\n",
    "ORDER BY genre_id\n",
    "LIMIT 10"
   ]
  },
  {
   "cell_type": "code",
   "execution_count": 0,
   "metadata": {
    "application/vnd.databricks.v1+cell": {
     "cellMetadata": {
      "byteLimit": 2048000,
      "implicitDf": true,
      "rowLimit": 10000
     },
     "inputWidgets": {},
     "nuid": "14321295-ef11-469b-920a-44228b58f030",
     "showTitle": true,
     "tableResultSettingsMap": {},
     "title": "Verificação de nulos da dimensão de gêneros"
    }
   },
   "outputs": [
    {
     "data": {
      "text/html": [
       "<style scoped>\n",
       "  .table-result-container {\n",
       "    max-height: 300px;\n",
       "    overflow: auto;\n",
       "  }\n",
       "  table, th, td {\n",
       "    border: 1px solid black;\n",
       "    border-collapse: collapse;\n",
       "  }\n",
       "  th, td {\n",
       "    padding: 5px;\n",
       "  }\n",
       "  th {\n",
       "    text-align: left;\n",
       "  }\n",
       "</style><div class='table-result-container'><table class='table-result'><thead style='background-color: white'><tr><th>total_rows</th><th>id_null_count</th><th>name_null_count</th></tr></thead><tbody><tr><td>32</td><td>0</td><td>0</td></tr></tbody></table></div>"
      ]
     },
     "metadata": {
      "application/vnd.databricks.v1+output": {
       "addedWidgets": {},
       "aggData": [],
       "aggError": "",
       "aggOverflow": false,
       "aggSchema": [],
       "aggSeriesLimitReached": false,
       "aggType": "",
       "arguments": {},
       "columnCustomDisplayInfos": {},
       "data": [
        [
         32,
         0,
         0
        ]
       ],
       "datasetInfos": [],
       "dbfsResultPath": null,
       "isJsonSchema": true,
       "metadata": {},
       "overflow": false,
       "plotOptions": {
        "customPlotOptions": {},
        "displayType": "table",
        "pivotAggregation": null,
        "pivotColumns": null,
        "xColumns": null,
        "yColumns": null
       },
       "removedWidgets": [],
       "schema": [
        {
         "metadata": "{}",
         "name": "total_rows",
         "type": "\"long\""
        },
        {
         "metadata": "{}",
         "name": "id_null_count",
         "type": "\"long\""
        },
        {
         "metadata": "{}",
         "name": "name_null_count",
         "type": "\"long\""
        }
       ],
       "type": "table"
      }
     },
     "output_type": "display_data"
    }
   ],
   "source": [
    "%sql\n",
    "SELECT\n",
    "  COUNT(*) AS total_rows,\n",
    "  COUNT(CASE WHEN genre_id IS NULL THEN 1 END) AS id_null_count,\n",
    "  COUNT(CASE WHEN genre_name IS NULL THEN 1 END) AS name_null_count\n",
    "  -- Adicione mais colunas conforme necessário\n",
    "FROM silver.dim_genres_v2"
   ]
  },
  {
   "cell_type": "code",
   "execution_count": 0,
   "metadata": {
    "application/vnd.databricks.v1+cell": {
     "cellMetadata": {
      "byteLimit": 2048000,
      "implicitDf": true,
      "rowLimit": 10000
     },
     "inputWidgets": {},
     "nuid": "de4b4cf9-b9e7-4eba-9540-27af7ef2ba7e",
     "showTitle": true,
     "tableResultSettingsMap": {},
     "title": "Verificação de tipos da dimensão de filmes"
    }
   },
   "outputs": [
    {
     "data": {
      "text/html": [
       "<style scoped>\n",
       "  .table-result-container {\n",
       "    max-height: 300px;\n",
       "    overflow: auto;\n",
       "  }\n",
       "  table, th, td {\n",
       "    border: 1px solid black;\n",
       "    border-collapse: collapse;\n",
       "  }\n",
       "  th, td {\n",
       "    padding: 5px;\n",
       "  }\n",
       "  th {\n",
       "    text-align: left;\n",
       "  }\n",
       "</style><div class='table-result-container'><table class='table-result'><thead style='background-color: white'><tr><th>adult</th><th>id</th><th>release_date</th><th>status</th><th>title</th><th>vote_average</th><th>vote_count</th></tr></thead><tbody><tr><td>False</td><td>100</td><td>1998-03-05</td><td>Released</td><td>Lock, Stock and Two Smoking Barrels</td><td>7.5</td><td>1671.0</td></tr><tr><td>False</td><td>10000</td><td>1993-12-25</td><td>Released</td><td>La estrategia del caracol</td><td>7.2</td><td>9.0</td></tr><tr><td>False</td><td>10001</td><td>1988-12-15</td><td>Released</td><td>Young Einstein</td><td>4.5</td><td>46.0</td></tr><tr><td>False</td><td>100010</td><td>1940-12-27</td><td>Released</td><td>Flight Command</td><td>6.0</td><td>1.0</td></tr><tr><td>False</td><td>100017</td><td>2006-08-06</td><td>Released</td><td>Hounded</td><td>4.8</td><td>7.0</td></tr><tr><td>False</td><td>10002</td><td>1986-06-13</td><td>Released</td><td>Mona Lisa</td><td>6.7</td><td>62.0</td></tr><tr><td>False</td><td>100024</td><td>2012-05-10</td><td>Released</td><td>Bloodwork</td><td>4.3</td><td>13.0</td></tr><tr><td>False</td><td>10003</td><td>1997-04-03</td><td>Released</td><td>The Saint</td><td>5.9</td><td>310.0</td></tr><tr><td>False</td><td>100032</td><td>1990-11-11</td><td>Released</td><td>The Great Los Angeles Earthquake</td><td>6.8</td><td>5.0</td></tr><tr><td>False</td><td>100033</td><td>1936-02-27</td><td>Released</td><td>Mr. Thank You</td><td>6.9</td><td>7.0</td></tr></tbody></table></div>"
      ]
     },
     "metadata": {
      "application/vnd.databricks.v1+output": {
       "addedWidgets": {},
       "aggData": [],
       "aggError": "",
       "aggOverflow": false,
       "aggSchema": [],
       "aggSeriesLimitReached": false,
       "aggType": "",
       "arguments": {},
       "columnCustomDisplayInfos": {},
       "data": [
        [
         "False",
         "100",
         "1998-03-05",
         "Released",
         "Lock, Stock and Two Smoking Barrels",
         7.5,
         1671
        ],
        [
         "False",
         "10000",
         "1993-12-25",
         "Released",
         "La estrategia del caracol",
         7.2,
         9
        ],
        [
         "False",
         "10001",
         "1988-12-15",
         "Released",
         "Young Einstein",
         4.5,
         46
        ],
        [
         "False",
         "100010",
         "1940-12-27",
         "Released",
         "Flight Command",
         6,
         1
        ],
        [
         "False",
         "100017",
         "2006-08-06",
         "Released",
         "Hounded",
         4.8,
         7
        ],
        [
         "False",
         "10002",
         "1986-06-13",
         "Released",
         "Mona Lisa",
         6.7,
         62
        ],
        [
         "False",
         "100024",
         "2012-05-10",
         "Released",
         "Bloodwork",
         4.3,
         13
        ],
        [
         "False",
         "10003",
         "1997-04-03",
         "Released",
         "The Saint",
         5.9,
         310
        ],
        [
         "False",
         "100032",
         "1990-11-11",
         "Released",
         "The Great Los Angeles Earthquake",
         6.8,
         5
        ],
        [
         "False",
         "100033",
         "1936-02-27",
         "Released",
         "Mr. Thank You",
         6.9,
         7
        ]
       ],
       "datasetInfos": [],
       "dbfsResultPath": null,
       "isJsonSchema": true,
       "metadata": {},
       "overflow": false,
       "plotOptions": {
        "customPlotOptions": {},
        "displayType": "table",
        "pivotAggregation": null,
        "pivotColumns": null,
        "xColumns": null,
        "yColumns": null
       },
       "removedWidgets": [],
       "schema": [
        {
         "metadata": "{}",
         "name": "adult",
         "type": "\"string\""
        },
        {
         "metadata": "{}",
         "name": "id",
         "type": "\"string\""
        },
        {
         "metadata": "{}",
         "name": "release_date",
         "type": "\"string\""
        },
        {
         "metadata": "{}",
         "name": "status",
         "type": "\"string\""
        },
        {
         "metadata": "{}",
         "name": "title",
         "type": "\"string\""
        },
        {
         "metadata": "{}",
         "name": "vote_average",
         "type": "\"double\""
        },
        {
         "metadata": "{}",
         "name": "vote_count",
         "type": "\"double\""
        }
       ],
       "type": "table"
      }
     },
     "output_type": "display_data"
    }
   ],
   "source": [
    "%sql SELECT * FROM silver.dim_movies_v6\n",
    "ORDER BY id\n",
    "LIMIT 10"
   ]
  },
  {
   "cell_type": "markdown",
   "metadata": {
    "application/vnd.databricks.v1+cell": {
     "cellMetadata": {},
     "inputWidgets": {},
     "nuid": "91d7fa6c-1ea7-4980-8e45-b25026ddaf6d",
     "showTitle": false,
     "tableResultSettingsMap": {},
     "title": ""
    }
   },
   "source": [
    "É necessário converter a coluna adult para booleano"
   ]
  },
  {
   "cell_type": "code",
   "execution_count": 0,
   "metadata": {
    "application/vnd.databricks.v1+cell": {
     "cellMetadata": {
      "byteLimit": 2048000,
      "implicitDf": true,
      "rowLimit": 10000
     },
     "inputWidgets": {},
     "nuid": "908f56bd-37ab-4504-a806-ae9d8f206aa1",
     "showTitle": true,
     "tableResultSettingsMap": {},
     "title": "Valores distintos na coluna adult"
    }
   },
   "outputs": [
    {
     "data": {
      "text/html": [
       "<style scoped>\n",
       "  .table-result-container {\n",
       "    max-height: 300px;\n",
       "    overflow: auto;\n",
       "  }\n",
       "  table, th, td {\n",
       "    border: 1px solid black;\n",
       "    border-collapse: collapse;\n",
       "  }\n",
       "  th, td {\n",
       "    padding: 5px;\n",
       "  }\n",
       "  th {\n",
       "    text-align: left;\n",
       "  }\n",
       "</style><div class='table-result-container'><table class='table-result'><thead style='background-color: white'><tr><th>adult</th></tr></thead><tbody><tr><td>False</td></tr><tr><td> Avalanche Sharks tells the story of a bikini contest that turns into a horrifying affair when it is hit by a shark avalanche.</td></tr><tr><td>True</td></tr><tr><td> - Written by Ørnås</td></tr><tr><td> Rune Balot goes to a casino connected to the October corporation to try to wrap up her case once and for all.</td></tr></tbody></table></div>"
      ]
     },
     "metadata": {
      "application/vnd.databricks.v1+output": {
       "addedWidgets": {},
       "aggData": [],
       "aggError": "",
       "aggOverflow": false,
       "aggSchema": [],
       "aggSeriesLimitReached": false,
       "aggType": "",
       "arguments": {},
       "columnCustomDisplayInfos": {},
       "data": [
        [
         "False"
        ],
        [
         " Avalanche Sharks tells the story of a bikini contest that turns into a horrifying affair when it is hit by a shark avalanche."
        ],
        [
         "True"
        ],
        [
         " - Written by Ørnås"
        ],
        [
         " Rune Balot goes to a casino connected to the October corporation to try to wrap up her case once and for all."
        ]
       ],
       "datasetInfos": [],
       "dbfsResultPath": null,
       "isJsonSchema": true,
       "metadata": {},
       "overflow": false,
       "plotOptions": {
        "customPlotOptions": {},
        "displayType": "table",
        "pivotAggregation": null,
        "pivotColumns": null,
        "xColumns": null,
        "yColumns": null
       },
       "removedWidgets": [],
       "schema": [
        {
         "metadata": "{}",
         "name": "adult",
         "type": "\"string\""
        }
       ],
       "type": "table"
      }
     },
     "output_type": "display_data"
    }
   ],
   "source": [
    "%sql SELECT DISTINCT adult FROM silver.dim_movies_v6"
   ]
  },
  {
   "cell_type": "code",
   "execution_count": 0,
   "metadata": {
    "application/vnd.databricks.v1+cell": {
     "cellMetadata": {
      "byteLimit": 2048000,
      "implicitDf": true,
      "rowLimit": 10000
     },
     "inputWidgets": {},
     "nuid": "dd78617b-71af-46cd-aae8-226b49c1c6eb",
     "showTitle": false,
     "tableResultSettingsMap": {},
     "title": ""
    }
   },
   "outputs": [
    {
     "data": {
      "text/html": [
       "<style scoped>\n",
       "  .table-result-container {\n",
       "    max-height: 300px;\n",
       "    overflow: auto;\n",
       "  }\n",
       "  table, th, td {\n",
       "    border: 1px solid black;\n",
       "    border-collapse: collapse;\n",
       "  }\n",
       "  th, td {\n",
       "    padding: 5px;\n",
       "  }\n",
       "  th {\n",
       "    text-align: left;\n",
       "  }\n",
       "</style><div class='table-result-container'><table class='table-result'><thead style='background-color: white'><tr></tr></thead><tbody></tbody></table></div>"
      ]
     },
     "metadata": {
      "application/vnd.databricks.v1+output": {
       "addedWidgets": {},
       "aggData": [],
       "aggError": "",
       "aggOverflow": false,
       "aggSchema": [],
       "aggSeriesLimitReached": false,
       "aggType": "",
       "arguments": {},
       "columnCustomDisplayInfos": {},
       "data": [],
       "datasetInfos": [],
       "dbfsResultPath": null,
       "isJsonSchema": true,
       "metadata": {},
       "overflow": false,
       "plotOptions": {
        "customPlotOptions": {},
        "displayType": "table",
        "pivotAggregation": null,
        "pivotColumns": null,
        "xColumns": null,
        "yColumns": null
       },
       "removedWidgets": [],
       "schema": [],
       "type": "table"
      }
     },
     "output_type": "display_data"
    }
   ],
   "source": [
    "%sql\n",
    "\n",
    "ALTER TABLE silver.dim_movies_v6\n",
    "SET TBLPROPERTIES (\n",
    "  'delta.columnMapping.mode' = 'name',\n",
    "  'delta.minReaderVersion' = '2',\n",
    "  'delta.minWriterVersion' = '5'\n",
    ");"
   ]
  },
  {
   "cell_type": "code",
   "execution_count": 0,
   "metadata": {
    "application/vnd.databricks.v1+cell": {
     "cellMetadata": {
      "byteLimit": 2048000,
      "implicitDf": true,
      "rowLimit": 10000
     },
     "inputWidgets": {},
     "nuid": "6b5a7f46-10cc-4d11-aa8a-2815206898cd",
     "showTitle": false,
     "tableResultSettingsMap": {},
     "title": ""
    }
   },
   "outputs": [
    {
     "data": {
      "text/html": [
       "<style scoped>\n",
       "  .table-result-container {\n",
       "    max-height: 300px;\n",
       "    overflow: auto;\n",
       "  }\n",
       "  table, th, td {\n",
       "    border: 1px solid black;\n",
       "    border-collapse: collapse;\n",
       "  }\n",
       "  th, td {\n",
       "    padding: 5px;\n",
       "  }\n",
       "  th {\n",
       "    text-align: left;\n",
       "  }\n",
       "</style><div class='table-result-container'><table class='table-result'><thead style='background-color: white'><tr></tr></thead><tbody></tbody></table></div>"
      ]
     },
     "metadata": {
      "application/vnd.databricks.v1+output": {
       "addedWidgets": {},
       "aggData": [],
       "aggError": "",
       "aggOverflow": false,
       "aggSchema": [],
       "aggSeriesLimitReached": false,
       "aggType": "",
       "arguments": {},
       "columnCustomDisplayInfos": {},
       "data": [],
       "datasetInfos": [],
       "dbfsResultPath": null,
       "isJsonSchema": true,
       "metadata": {},
       "overflow": false,
       "plotOptions": {
        "customPlotOptions": {},
        "displayType": "table",
        "pivotAggregation": null,
        "pivotColumns": null,
        "xColumns": null,
        "yColumns": null
       },
       "removedWidgets": [],
       "schema": [],
       "type": "table"
      }
     },
     "output_type": "display_data"
    }
   ],
   "source": [
    "%sql\n",
    "-- Crie nova coluna com conversão booleana\n",
    "ALTER TABLE silver.dim_movies_v6 ADD COLUMNS (adult_bool BOOLEAN);\n"
   ]
  },
  {
   "cell_type": "code",
   "execution_count": 0,
   "metadata": {
    "application/vnd.databricks.v1+cell": {
     "cellMetadata": {
      "byteLimit": 2048000,
      "implicitDf": true,
      "rowLimit": 10000
     },
     "inputWidgets": {},
     "nuid": "f6a156aa-d32b-46c5-9f6e-ef3ad995c3a2",
     "showTitle": false,
     "tableResultSettingsMap": {},
     "title": ""
    }
   },
   "outputs": [
    {
     "data": {
      "text/html": [
       "<style scoped>\n",
       "  .table-result-container {\n",
       "    max-height: 300px;\n",
       "    overflow: auto;\n",
       "  }\n",
       "  table, th, td {\n",
       "    border: 1px solid black;\n",
       "    border-collapse: collapse;\n",
       "  }\n",
       "  th, td {\n",
       "    padding: 5px;\n",
       "  }\n",
       "  th {\n",
       "    text-align: left;\n",
       "  }\n",
       "</style><div class='table-result-container'><table class='table-result'><thead style='background-color: white'><tr><th>num_affected_rows</th></tr></thead><tbody><tr><td>45466</td></tr></tbody></table></div>"
      ]
     },
     "metadata": {
      "application/vnd.databricks.v1+output": {
       "addedWidgets": {},
       "aggData": [],
       "aggError": "",
       "aggOverflow": false,
       "aggSchema": [],
       "aggSeriesLimitReached": false,
       "aggType": "",
       "arguments": {},
       "columnCustomDisplayInfos": {},
       "data": [
        [
         45466
        ]
       ],
       "datasetInfos": [],
       "dbfsResultPath": null,
       "isJsonSchema": true,
       "metadata": {},
       "overflow": false,
       "plotOptions": {
        "customPlotOptions": {},
        "displayType": "table",
        "pivotAggregation": null,
        "pivotColumns": null,
        "xColumns": null,
        "yColumns": null
       },
       "removedWidgets": [],
       "schema": [
        {
         "metadata": "{}",
         "name": "num_affected_rows",
         "type": "\"long\""
        }
       ],
       "type": "table"
      }
     },
     "output_type": "display_data"
    }
   ],
   "source": [
    "%sql\n",
    "UPDATE silver.dim_movies_v6\n",
    "SET adult_bool = \n",
    "  CASE \n",
    "    WHEN adult = 'True' THEN true\n",
    "    WHEN adult = 'False' THEN false\n",
    "    ELSE null\n",
    "  END;"
   ]
  },
  {
   "cell_type": "code",
   "execution_count": 0,
   "metadata": {
    "application/vnd.databricks.v1+cell": {
     "cellMetadata": {
      "byteLimit": 2048000,
      "implicitDf": true,
      "rowLimit": 10000
     },
     "inputWidgets": {},
     "nuid": "eb0beefc-7679-4d65-b7bb-0e6595dd244e",
     "showTitle": false,
     "tableResultSettingsMap": {},
     "title": ""
    }
   },
   "outputs": [
    {
     "data": {
      "text/html": [
       "<style scoped>\n",
       "  .table-result-container {\n",
       "    max-height: 300px;\n",
       "    overflow: auto;\n",
       "  }\n",
       "  table, th, td {\n",
       "    border: 1px solid black;\n",
       "    border-collapse: collapse;\n",
       "  }\n",
       "  th, td {\n",
       "    padding: 5px;\n",
       "  }\n",
       "  th {\n",
       "    text-align: left;\n",
       "  }\n",
       "</style><div class='table-result-container'><table class='table-result'><thead style='background-color: white'><tr></tr></thead><tbody></tbody></table></div>"
      ]
     },
     "metadata": {
      "application/vnd.databricks.v1+output": {
       "addedWidgets": {},
       "aggData": [],
       "aggError": "",
       "aggOverflow": false,
       "aggSchema": [],
       "aggSeriesLimitReached": false,
       "aggType": "",
       "arguments": {},
       "columnCustomDisplayInfos": {},
       "data": [],
       "datasetInfos": [],
       "dbfsResultPath": null,
       "isJsonSchema": true,
       "metadata": {},
       "overflow": false,
       "plotOptions": {
        "customPlotOptions": {},
        "displayType": "table",
        "pivotAggregation": null,
        "pivotColumns": null,
        "xColumns": null,
        "yColumns": null
       },
       "removedWidgets": [],
       "schema": [],
       "type": "table"
      }
     },
     "output_type": "display_data"
    }
   ],
   "source": [
    "%sql\n",
    "-- Remova a original e renomeie\n",
    "ALTER TABLE silver.dim_movies_v6 DROP COLUMN adult;\n",
    "ALTER TABLE silver.dim_movies_v6 RENAME COLUMN adult_bool TO adult;"
   ]
  },
  {
   "cell_type": "code",
   "execution_count": 0,
   "metadata": {
    "application/vnd.databricks.v1+cell": {
     "cellMetadata": {
      "byteLimit": 2048000,
      "implicitDf": true,
      "rowLimit": 10000
     },
     "inputWidgets": {},
     "nuid": "039dadee-13b2-47c3-ba7f-e44a988f406f",
     "showTitle": false,
     "tableResultSettingsMap": {},
     "title": ""
    }
   },
   "outputs": [
    {
     "data": {
      "text/html": [
       "<style scoped>\n",
       "  .table-result-container {\n",
       "    max-height: 300px;\n",
       "    overflow: auto;\n",
       "  }\n",
       "  table, th, td {\n",
       "    border: 1px solid black;\n",
       "    border-collapse: collapse;\n",
       "  }\n",
       "  th, td {\n",
       "    padding: 5px;\n",
       "  }\n",
       "  th {\n",
       "    text-align: left;\n",
       "  }\n",
       "</style><div class='table-result-container'><table class='table-result'><thead style='background-color: white'><tr><th>num_affected_rows</th></tr></thead><tbody><tr><td>45466</td></tr></tbody></table></div>"
      ]
     },
     "metadata": {
      "application/vnd.databricks.v1+output": {
       "addedWidgets": {},
       "aggData": [],
       "aggError": "",
       "aggOverflow": false,
       "aggSchema": [],
       "aggSeriesLimitReached": false,
       "aggType": "",
       "arguments": {},
       "columnCustomDisplayInfos": {},
       "data": [
        [
         45466
        ]
       ],
       "datasetInfos": [],
       "dbfsResultPath": null,
       "isJsonSchema": true,
       "metadata": {},
       "overflow": false,
       "plotOptions": {
        "customPlotOptions": {},
        "displayType": "table",
        "pivotAggregation": null,
        "pivotColumns": null,
        "xColumns": null,
        "yColumns": null
       },
       "removedWidgets": [],
       "schema": [
        {
         "metadata": "{}",
         "name": "num_affected_rows",
         "type": "\"long\""
        }
       ],
       "type": "table"
      }
     },
     "output_type": "display_data"
    }
   ],
   "source": [
    "%sql\n",
    "ALTER TABLE silver.dim_movies_v6 ADD COLUMNS (id_num BIGINT);\n",
    "\n",
    "UPDATE silver.dim_movies_v6\n",
    "SET id_num = TRY_CAST(id as BIGINT)"
   ]
  },
  {
   "cell_type": "code",
   "execution_count": 0,
   "metadata": {
    "application/vnd.databricks.v1+cell": {
     "cellMetadata": {
      "byteLimit": 2048000,
      "implicitDf": true,
      "rowLimit": 10000
     },
     "inputWidgets": {},
     "nuid": "a5df857b-39e5-4246-9d6d-4ef1450c04e9",
     "showTitle": false,
     "tableResultSettingsMap": {},
     "title": ""
    }
   },
   "outputs": [
    {
     "data": {
      "text/html": [
       "<style scoped>\n",
       "  .table-result-container {\n",
       "    max-height: 300px;\n",
       "    overflow: auto;\n",
       "  }\n",
       "  table, th, td {\n",
       "    border: 1px solid black;\n",
       "    border-collapse: collapse;\n",
       "  }\n",
       "  th, td {\n",
       "    padding: 5px;\n",
       "  }\n",
       "  th {\n",
       "    text-align: left;\n",
       "  }\n",
       "</style><div class='table-result-container'><table class='table-result'><thead style='background-color: white'><tr></tr></thead><tbody></tbody></table></div>"
      ]
     },
     "metadata": {
      "application/vnd.databricks.v1+output": {
       "addedWidgets": {},
       "aggData": [],
       "aggError": "",
       "aggOverflow": false,
       "aggSchema": [],
       "aggSeriesLimitReached": false,
       "aggType": "",
       "arguments": {},
       "columnCustomDisplayInfos": {},
       "data": [],
       "datasetInfos": [],
       "dbfsResultPath": null,
       "isJsonSchema": true,
       "metadata": {},
       "overflow": false,
       "plotOptions": {
        "customPlotOptions": {},
        "displayType": "table",
        "pivotAggregation": null,
        "pivotColumns": null,
        "xColumns": null,
        "yColumns": null
       },
       "removedWidgets": [],
       "schema": [],
       "type": "table"
      }
     },
     "output_type": "display_data"
    }
   ],
   "source": [
    "%sql\n",
    "-- Remova a original e renomeie\n",
    "ALTER TABLE silver.dim_movies_v6 DROP COLUMN id;\n",
    "ALTER TABLE silver.dim_movies_v6 RENAME COLUMN id_num TO id;"
   ]
  },
  {
   "cell_type": "code",
   "execution_count": 0,
   "metadata": {
    "application/vnd.databricks.v1+cell": {
     "cellMetadata": {
      "byteLimit": 2048000,
      "implicitDf": true,
      "rowLimit": 10000
     },
     "inputWidgets": {},
     "nuid": "3236fd00-0728-4caf-a254-0d815995a233",
     "showTitle": false,
     "tableResultSettingsMap": {},
     "title": ""
    }
   },
   "outputs": [
    {
     "data": {
      "text/html": [
       "<style scoped>\n",
       "  .table-result-container {\n",
       "    max-height: 300px;\n",
       "    overflow: auto;\n",
       "  }\n",
       "  table, th, td {\n",
       "    border: 1px solid black;\n",
       "    border-collapse: collapse;\n",
       "  }\n",
       "  th, td {\n",
       "    padding: 5px;\n",
       "  }\n",
       "  th {\n",
       "    text-align: left;\n",
       "  }\n",
       "</style><div class='table-result-container'><table class='table-result'><thead style='background-color: white'><tr><th>num_affected_rows</th></tr></thead><tbody><tr><td>45466</td></tr></tbody></table></div>"
      ]
     },
     "metadata": {
      "application/vnd.databricks.v1+output": {
       "addedWidgets": {},
       "aggData": [],
       "aggError": "",
       "aggOverflow": false,
       "aggSchema": [],
       "aggSeriesLimitReached": false,
       "aggType": "",
       "arguments": {},
       "columnCustomDisplayInfos": {},
       "data": [
        [
         45466
        ]
       ],
       "datasetInfos": [],
       "dbfsResultPath": null,
       "isJsonSchema": true,
       "metadata": {},
       "overflow": false,
       "plotOptions": {
        "customPlotOptions": {},
        "displayType": "table",
        "pivotAggregation": null,
        "pivotColumns": null,
        "xColumns": null,
        "yColumns": null
       },
       "removedWidgets": [],
       "schema": [
        {
         "metadata": "{}",
         "name": "num_affected_rows",
         "type": "\"long\""
        }
       ],
       "type": "table"
      }
     },
     "output_type": "display_data"
    }
   ],
   "source": [
    "%sql\n",
    "-- Cria uma nova coluna com o valor convertido\n",
    "ALTER TABLE silver.dim_movies_v6 ADD COLUMNS (release_date_converted DATE);\n",
    "\n",
    "UPDATE silver.dim_movies_v6\n",
    "SET release_date_converted = TO_DATE(release_date,'yyyy-MM-dd');\n"
   ]
  },
  {
   "cell_type": "code",
   "execution_count": 0,
   "metadata": {
    "application/vnd.databricks.v1+cell": {
     "cellMetadata": {
      "byteLimit": 2048000,
      "implicitDf": true,
      "rowLimit": 10000
     },
     "inputWidgets": {},
     "nuid": "44e6a8a0-0b52-42a2-9391-db79a5af669a",
     "showTitle": false,
     "tableResultSettingsMap": {},
     "title": ""
    }
   },
   "outputs": [
    {
     "data": {
      "text/html": [
       "<style scoped>\n",
       "  .table-result-container {\n",
       "    max-height: 300px;\n",
       "    overflow: auto;\n",
       "  }\n",
       "  table, th, td {\n",
       "    border: 1px solid black;\n",
       "    border-collapse: collapse;\n",
       "  }\n",
       "  th, td {\n",
       "    padding: 5px;\n",
       "  }\n",
       "  th {\n",
       "    text-align: left;\n",
       "  }\n",
       "</style><div class='table-result-container'><table class='table-result'><thead style='background-color: white'><tr></tr></thead><tbody></tbody></table></div>"
      ]
     },
     "metadata": {
      "application/vnd.databricks.v1+output": {
       "addedWidgets": {},
       "aggData": [],
       "aggError": "",
       "aggOverflow": false,
       "aggSchema": [],
       "aggSeriesLimitReached": false,
       "aggType": "",
       "arguments": {},
       "columnCustomDisplayInfos": {},
       "data": [],
       "datasetInfos": [],
       "dbfsResultPath": null,
       "isJsonSchema": true,
       "metadata": {},
       "overflow": false,
       "plotOptions": {
        "customPlotOptions": {},
        "displayType": "table",
        "pivotAggregation": null,
        "pivotColumns": null,
        "xColumns": null,
        "yColumns": null
       },
       "removedWidgets": [],
       "schema": [],
       "type": "table"
      }
     },
     "output_type": "display_data"
    }
   ],
   "source": [
    "%sql\n",
    "-- Remova a original e renomeie\n",
    "ALTER TABLE silver.dim_movies_v6 DROP COLUMN release_date;\n",
    "ALTER TABLE silver.dim_movies_v6 RENAME COLUMN release_date_converted TO release_date;"
   ]
  },
  {
   "cell_type": "code",
   "execution_count": 0,
   "metadata": {
    "application/vnd.databricks.v1+cell": {
     "cellMetadata": {
      "byteLimit": 2048000,
      "implicitDf": true,
      "rowLimit": 10000
     },
     "inputWidgets": {},
     "nuid": "88db189e-c83a-4648-987e-6c623ef5f93e",
     "showTitle": false,
     "tableResultSettingsMap": {},
     "title": ""
    }
   },
   "outputs": [
    {
     "data": {
      "text/html": [
       "<style scoped>\n",
       "  .table-result-container {\n",
       "    max-height: 300px;\n",
       "    overflow: auto;\n",
       "  }\n",
       "  table, th, td {\n",
       "    border: 1px solid black;\n",
       "    border-collapse: collapse;\n",
       "  }\n",
       "  th, td {\n",
       "    padding: 5px;\n",
       "  }\n",
       "  th {\n",
       "    text-align: left;\n",
       "  }\n",
       "</style><div class='table-result-container'><table class='table-result'><thead style='background-color: white'><tr><th>status</th><th>title</th><th>vote_average</th><th>vote_count</th><th>adult</th><th>id</th><th>release_date</th></tr></thead><tbody><tr><td>NaN</td><td>NaN</td><td>NaN</td><td>NaN</td><td>null</td><td>null</td><td>null</td></tr><tr><td>NaN</td><td>NaN</td><td>NaN</td><td>NaN</td><td>null</td><td>null</td><td>null</td></tr><tr><td>NaN</td><td>NaN</td><td>NaN</td><td>NaN</td><td>null</td><td>null</td><td>null</td></tr><tr><td>Released</td><td>Ariel</td><td>7.1</td><td>44.0</td><td>false</td><td>2</td><td>1988-10-21</td></tr><tr><td>Released</td><td>Shadows in Paradise</td><td>7.1</td><td>35.0</td><td>false</td><td>3</td><td>1986-10-16</td></tr><tr><td>Released</td><td>Four Rooms</td><td>6.5</td><td>539.0</td><td>false</td><td>5</td><td>1995-12-09</td></tr><tr><td>Released</td><td>Judgment Night</td><td>6.4</td><td>79.0</td><td>false</td><td>6</td><td>1993-10-15</td></tr><tr><td>Released</td><td>Star Wars</td><td>8.1</td><td>6778.0</td><td>false</td><td>11</td><td>1977-05-25</td></tr><tr><td>Released</td><td>Finding Nemo</td><td>7.6</td><td>6292.0</td><td>false</td><td>12</td><td>2003-05-30</td></tr><tr><td>Released</td><td>Forrest Gump</td><td>8.2</td><td>8147.0</td><td>false</td><td>13</td><td>1994-07-06</td></tr></tbody></table></div>"
      ]
     },
     "metadata": {
      "application/vnd.databricks.v1+output": {
       "addedWidgets": {},
       "aggData": [],
       "aggError": "",
       "aggOverflow": false,
       "aggSchema": [],
       "aggSeriesLimitReached": false,
       "aggType": "",
       "arguments": {},
       "columnCustomDisplayInfos": {},
       "data": [
        [
         "NaN",
         "NaN",
         "NaN",
         "NaN",
         null,
         null,
         null
        ],
        [
         "NaN",
         "NaN",
         "NaN",
         "NaN",
         null,
         null,
         null
        ],
        [
         "NaN",
         "NaN",
         "NaN",
         "NaN",
         null,
         null,
         null
        ],
        [
         "Released",
         "Ariel",
         7.1,
         44,
         false,
         2,
         "1988-10-21"
        ],
        [
         "Released",
         "Shadows in Paradise",
         7.1,
         35,
         false,
         3,
         "1986-10-16"
        ],
        [
         "Released",
         "Four Rooms",
         6.5,
         539,
         false,
         5,
         "1995-12-09"
        ],
        [
         "Released",
         "Judgment Night",
         6.4,
         79,
         false,
         6,
         "1993-10-15"
        ],
        [
         "Released",
         "Star Wars",
         8.1,
         6778,
         false,
         11,
         "1977-05-25"
        ],
        [
         "Released",
         "Finding Nemo",
         7.6,
         6292,
         false,
         12,
         "2003-05-30"
        ],
        [
         "Released",
         "Forrest Gump",
         8.2,
         8147,
         false,
         13,
         "1994-07-06"
        ]
       ],
       "datasetInfos": [],
       "dbfsResultPath": null,
       "isJsonSchema": true,
       "metadata": {},
       "overflow": false,
       "plotOptions": {
        "customPlotOptions": {},
        "displayType": "table",
        "pivotAggregation": null,
        "pivotColumns": null,
        "xColumns": null,
        "yColumns": null
       },
       "removedWidgets": [],
       "schema": [
        {
         "metadata": "{}",
         "name": "status",
         "type": "\"string\""
        },
        {
         "metadata": "{}",
         "name": "title",
         "type": "\"string\""
        },
        {
         "metadata": "{}",
         "name": "vote_average",
         "type": "\"double\""
        },
        {
         "metadata": "{}",
         "name": "vote_count",
         "type": "\"double\""
        },
        {
         "metadata": "{}",
         "name": "adult",
         "type": "\"boolean\""
        },
        {
         "metadata": "{}",
         "name": "id",
         "type": "\"long\""
        },
        {
         "metadata": "{}",
         "name": "release_date",
         "type": "\"date\""
        }
       ],
       "type": "table"
      }
     },
     "output_type": "display_data"
    }
   ],
   "source": [
    "%sql SELECT * FROM silver.dim_movies_v6\n",
    "ORDER BY id\n",
    "LIMIT 10"
   ]
  },
  {
   "cell_type": "code",
   "execution_count": 0,
   "metadata": {
    "application/vnd.databricks.v1+cell": {
     "cellMetadata": {
      "byteLimit": 2048000,
      "implicitDf": true,
      "rowLimit": 10000
     },
     "inputWidgets": {},
     "nuid": "feb735fb-33d0-4a30-8a66-1a6445e5cfc9",
     "showTitle": false,
     "tableResultSettingsMap": {},
     "title": ""
    }
   },
   "outputs": [
    {
     "data": {
      "text/html": [
       "<style scoped>\n",
       "  .table-result-container {\n",
       "    max-height: 300px;\n",
       "    overflow: auto;\n",
       "  }\n",
       "  table, th, td {\n",
       "    border: 1px solid black;\n",
       "    border-collapse: collapse;\n",
       "  }\n",
       "  th, td {\n",
       "    padding: 5px;\n",
       "  }\n",
       "  th {\n",
       "    text-align: left;\n",
       "  }\n",
       "</style><div class='table-result-container'><table class='table-result'><thead style='background-color: white'><tr><th>num_affected_rows</th></tr></thead><tbody><tr><td>3</td></tr></tbody></table></div>"
      ]
     },
     "metadata": {
      "application/vnd.databricks.v1+output": {
       "addedWidgets": {},
       "aggData": [],
       "aggError": "",
       "aggOverflow": false,
       "aggSchema": [],
       "aggSeriesLimitReached": false,
       "aggType": "",
       "arguments": {},
       "columnCustomDisplayInfos": {},
       "data": [
        [
         3
        ]
       ],
       "datasetInfos": [],
       "dbfsResultPath": null,
       "isJsonSchema": true,
       "metadata": {},
       "overflow": false,
       "plotOptions": {
        "customPlotOptions": {},
        "displayType": "table",
        "pivotAggregation": null,
        "pivotColumns": null,
        "xColumns": null,
        "yColumns": null
       },
       "removedWidgets": [],
       "schema": [
        {
         "metadata": "{}",
         "name": "num_affected_rows",
         "type": "\"long\""
        }
       ],
       "type": "table"
      }
     },
     "output_type": "display_data"
    }
   ],
   "source": [
    "%sql\n",
    "DELETE FROM silver.dim_movies_v6\n",
    "WHERE id IS NULL;"
   ]
  },
  {
   "cell_type": "markdown",
   "metadata": {
    "application/vnd.databricks.v1+cell": {
     "cellMetadata": {
      "byteLimit": 2048000,
      "rowLimit": 10000
     },
     "inputWidgets": {},
     "nuid": "47ce96ad-2f3b-4ebf-8654-b5b28f32d061",
     "showTitle": false,
     "tableResultSettingsMap": {},
     "title": ""
    }
   },
   "source": [
    "## 5.2. Solução do Problema"
   ]
  },
  {
   "cell_type": "code",
   "execution_count": 0,
   "metadata": {
    "application/vnd.databricks.v1+cell": {
     "cellMetadata": {
      "byteLimit": 2048000,
      "implicitDf": true,
      "rowLimit": 10000
     },
     "inputWidgets": {},
     "nuid": "ab418138-fdd7-467f-886e-5160db94a529",
     "showTitle": false,
     "tableResultSettingsMap": {},
     "title": ""
    }
   },
   "outputs": [
    {
     "data": {
      "text/html": [
       "<style scoped>\n",
       "  .table-result-container {\n",
       "    max-height: 300px;\n",
       "    overflow: auto;\n",
       "  }\n",
       "  table, th, td {\n",
       "    border: 1px solid black;\n",
       "    border-collapse: collapse;\n",
       "  }\n",
       "  th, td {\n",
       "    padding: 5px;\n",
       "  }\n",
       "  th {\n",
       "    text-align: left;\n",
       "  }\n",
       "</style><div class='table-result-container'><table class='table-result'><thead style='background-color: white'><tr></tr></thead><tbody></tbody></table></div>"
      ]
     },
     "metadata": {
      "application/vnd.databricks.v1+output": {
       "addedWidgets": {},
       "aggData": [],
       "aggError": "",
       "aggOverflow": false,
       "aggSchema": [],
       "aggSeriesLimitReached": false,
       "aggType": "",
       "arguments": {},
       "columnCustomDisplayInfos": {},
       "data": [],
       "datasetInfos": [],
       "dbfsResultPath": null,
       "isJsonSchema": true,
       "metadata": {},
       "overflow": false,
       "plotOptions": {
        "customPlotOptions": {},
        "displayType": "table",
        "pivotAggregation": null,
        "pivotColumns": null,
        "xColumns": null,
        "yColumns": null
       },
       "removedWidgets": [],
       "schema": [],
       "type": "table"
      }
     },
     "output_type": "display_data"
    }
   ],
   "source": [
    "%sql CREATE DATABASE IF NOT EXISTS gold"
   ]
  },
  {
   "cell_type": "code",
   "execution_count": 0,
   "metadata": {
    "application/vnd.databricks.v1+cell": {
     "cellMetadata": {
      "byteLimit": 2048000,
      "implicitDf": true,
      "rowLimit": 10000
     },
     "inputWidgets": {},
     "nuid": "22da5903-672e-4a65-8b74-6c3f7d7a678f",
     "showTitle": false,
     "tableResultSettingsMap": {},
     "title": ""
    }
   },
   "outputs": [
    {
     "data": {
      "text/html": [
       "<style scoped>\n",
       "  .table-result-container {\n",
       "    max-height: 300px;\n",
       "    overflow: auto;\n",
       "  }\n",
       "  table, th, td {\n",
       "    border: 1px solid black;\n",
       "    border-collapse: collapse;\n",
       "  }\n",
       "  th, td {\n",
       "    padding: 5px;\n",
       "  }\n",
       "  th {\n",
       "    text-align: left;\n",
       "  }\n",
       "</style><div class='table-result-container'><table class='table-result'><thead style='background-color: white'><tr><th>num_affected_rows</th><th>num_inserted_rows</th></tr></thead><tbody></tbody></table></div>"
      ]
     },
     "metadata": {
      "application/vnd.databricks.v1+output": {
       "addedWidgets": {},
       "aggData": [],
       "aggError": "",
       "aggOverflow": false,
       "aggSchema": [],
       "aggSeriesLimitReached": false,
       "aggType": "",
       "arguments": {},
       "columnCustomDisplayInfos": {},
       "data": [],
       "datasetInfos": [],
       "dbfsResultPath": null,
       "isJsonSchema": true,
       "metadata": {},
       "overflow": false,
       "plotOptions": {
        "customPlotOptions": {},
        "displayType": "table",
        "pivotAggregation": null,
        "pivotColumns": null,
        "xColumns": null,
        "yColumns": null
       },
       "removedWidgets": [],
       "schema": [
        {
         "metadata": "{}",
         "name": "num_affected_rows",
         "type": "\"long\""
        },
        {
         "metadata": "{}",
         "name": "num_inserted_rows",
         "type": "\"long\""
        }
       ],
       "type": "table"
      }
     },
     "output_type": "display_data"
    }
   ],
   "source": [
    "%sql\n",
    "CREATE OR REPLACE TABLE gold.dim_actors\n",
    "USING DELTA\n",
    "AS\n",
    "SELECT * FROM silver.dim_actors;"
   ]
  },
  {
   "cell_type": "code",
   "execution_count": 0,
   "metadata": {
    "application/vnd.databricks.v1+cell": {
     "cellMetadata": {
      "byteLimit": 2048000,
      "implicitDf": true,
      "rowLimit": 10000
     },
     "inputWidgets": {},
     "nuid": "f6cef300-c51e-4a6b-be61-31b1b8003877",
     "showTitle": false,
     "tableResultSettingsMap": {},
     "title": ""
    }
   },
   "outputs": [
    {
     "data": {
      "text/html": [
       "<style scoped>\n",
       "  .table-result-container {\n",
       "    max-height: 300px;\n",
       "    overflow: auto;\n",
       "  }\n",
       "  table, th, td {\n",
       "    border: 1px solid black;\n",
       "    border-collapse: collapse;\n",
       "  }\n",
       "  th, td {\n",
       "    padding: 5px;\n",
       "  }\n",
       "  th {\n",
       "    text-align: left;\n",
       "  }\n",
       "</style><div class='table-result-container'><table class='table-result'><thead style='background-color: white'><tr><th>num_affected_rows</th><th>num_inserted_rows</th></tr></thead><tbody></tbody></table></div>"
      ]
     },
     "metadata": {
      "application/vnd.databricks.v1+output": {
       "addedWidgets": {},
       "aggData": [],
       "aggError": "",
       "aggOverflow": false,
       "aggSchema": [],
       "aggSeriesLimitReached": false,
       "aggType": "",
       "arguments": {},
       "columnCustomDisplayInfos": {},
       "data": [],
       "datasetInfos": [],
       "dbfsResultPath": null,
       "isJsonSchema": true,
       "metadata": {},
       "overflow": false,
       "plotOptions": {
        "customPlotOptions": {},
        "displayType": "table",
        "pivotAggregation": null,
        "pivotColumns": null,
        "xColumns": null,
        "yColumns": null
       },
       "removedWidgets": [],
       "schema": [
        {
         "metadata": "{}",
         "name": "num_affected_rows",
         "type": "\"long\""
        },
        {
         "metadata": "{}",
         "name": "num_inserted_rows",
         "type": "\"long\""
        }
       ],
       "type": "table"
      }
     },
     "output_type": "display_data"
    }
   ],
   "source": [
    "%sql\n",
    "CREATE OR REPLACE TABLE gold.dim_movies\n",
    "USING DELTA\n",
    "AS\n",
    "SELECT * FROM silver.dim_movies_v6;"
   ]
  },
  {
   "cell_type": "code",
   "execution_count": 0,
   "metadata": {
    "application/vnd.databricks.v1+cell": {
     "cellMetadata": {},
     "inputWidgets": {},
     "nuid": "f3a5daf1-9019-4faa-ac2e-195ca7136115",
     "showTitle": false,
     "tableResultSettingsMap": {},
     "title": ""
    }
   },
   "outputs": [
    {
     "data": {
      "text/html": [
       "<style scoped>\n",
       "  .table-result-container {\n",
       "    max-height: 300px;\n",
       "    overflow: auto;\n",
       "  }\n",
       "  table, th, td {\n",
       "    border: 1px solid black;\n",
       "    border-collapse: collapse;\n",
       "  }\n",
       "  th, td {\n",
       "    padding: 5px;\n",
       "  }\n",
       "  th {\n",
       "    text-align: left;\n",
       "  }\n",
       "</style><div class='table-result-container'><table class='table-result'><thead style='background-color: white'><tr><th>num_affected_rows</th><th>num_inserted_rows</th></tr></thead><tbody></tbody></table></div>"
      ]
     },
     "metadata": {
      "application/vnd.databricks.v1+output": {
       "addedWidgets": {},
       "aggData": [],
       "aggError": "",
       "aggOverflow": false,
       "aggSchema": [],
       "aggSeriesLimitReached": false,
       "aggType": "",
       "arguments": {},
       "columnCustomDisplayInfos": {},
       "data": [],
       "datasetInfos": [],
       "dbfsResultPath": null,
       "isJsonSchema": true,
       "metadata": {},
       "overflow": false,
       "plotOptions": {
        "customPlotOptions": {},
        "displayType": "table",
        "pivotAggregation": null,
        "pivotColumns": null,
        "xColumns": null,
        "yColumns": null
       },
       "removedWidgets": [],
       "schema": [
        {
         "metadata": "{}",
         "name": "num_affected_rows",
         "type": "\"long\""
        },
        {
         "metadata": "{}",
         "name": "num_inserted_rows",
         "type": "\"long\""
        }
       ],
       "type": "table"
      }
     },
     "output_type": "display_data"
    }
   ],
   "source": [
    "%sql\n",
    "CREATE OR REPLACE TABLE gold.dim_movies\n",
    "USING DELTA\n",
    "AS\n",
    "SELECT * FROM silver.dim_movies_v6;"
   ]
  },
  {
   "cell_type": "code",
   "execution_count": 0,
   "metadata": {
    "application/vnd.databricks.v1+cell": {
     "cellMetadata": {
      "byteLimit": 2048000,
      "implicitDf": true,
      "rowLimit": 10000
     },
     "inputWidgets": {},
     "nuid": "52b99924-7d4f-4dd7-98d4-8044e50e17e8",
     "showTitle": false,
     "tableResultSettingsMap": {},
     "title": ""
    }
   },
   "outputs": [
    {
     "data": {
      "text/html": [
       "<style scoped>\n",
       "  .table-result-container {\n",
       "    max-height: 300px;\n",
       "    overflow: auto;\n",
       "  }\n",
       "  table, th, td {\n",
       "    border: 1px solid black;\n",
       "    border-collapse: collapse;\n",
       "  }\n",
       "  th, td {\n",
       "    padding: 5px;\n",
       "  }\n",
       "  th {\n",
       "    text-align: left;\n",
       "  }\n",
       "</style><div class='table-result-container'><table class='table-result'><thead style='background-color: white'><tr><th>num_affected_rows</th><th>num_inserted_rows</th></tr></thead><tbody></tbody></table></div>"
      ]
     },
     "metadata": {
      "application/vnd.databricks.v1+output": {
       "addedWidgets": {},
       "aggData": [],
       "aggError": "",
       "aggOverflow": false,
       "aggSchema": [],
       "aggSeriesLimitReached": false,
       "aggType": "",
       "arguments": {},
       "columnCustomDisplayInfos": {},
       "data": [],
       "datasetInfos": [],
       "dbfsResultPath": null,
       "isJsonSchema": true,
       "metadata": {},
       "overflow": false,
       "plotOptions": {
        "customPlotOptions": {},
        "displayType": "table",
        "pivotAggregation": null,
        "pivotColumns": null,
        "xColumns": null,
        "yColumns": null
       },
       "removedWidgets": [],
       "schema": [
        {
         "metadata": "{}",
         "name": "num_affected_rows",
         "type": "\"long\""
        },
        {
         "metadata": "{}",
         "name": "num_inserted_rows",
         "type": "\"long\""
        }
       ],
       "type": "table"
      }
     },
     "output_type": "display_data"
    }
   ],
   "source": [
    "%sql\n",
    "CREATE OR REPLACE TABLE gold.dim_genres\n",
    "USING DELTA\n",
    "AS\n",
    "SELECT * FROM silver.dim_genres_v2;"
   ]
  },
  {
   "cell_type": "code",
   "execution_count": 0,
   "metadata": {
    "application/vnd.databricks.v1+cell": {
     "cellMetadata": {
      "byteLimit": 2048000,
      "implicitDf": true,
      "rowLimit": 10000
     },
     "inputWidgets": {},
     "nuid": "6beb1479-d946-4c58-98d2-b67bdb4df15d",
     "showTitle": false,
     "tableResultSettingsMap": {},
     "title": ""
    }
   },
   "outputs": [
    {
     "data": {
      "text/html": [
       "<style scoped>\n",
       "  .table-result-container {\n",
       "    max-height: 300px;\n",
       "    overflow: auto;\n",
       "  }\n",
       "  table, th, td {\n",
       "    border: 1px solid black;\n",
       "    border-collapse: collapse;\n",
       "  }\n",
       "  th, td {\n",
       "    padding: 5px;\n",
       "  }\n",
       "  th {\n",
       "    text-align: left;\n",
       "  }\n",
       "</style><div class='table-result-container'><table class='table-result'><thead style='background-color: white'><tr><th>num_affected_rows</th><th>num_inserted_rows</th></tr></thead><tbody></tbody></table></div>"
      ]
     },
     "metadata": {
      "application/vnd.databricks.v1+output": {
       "addedWidgets": {},
       "aggData": [],
       "aggError": "",
       "aggOverflow": false,
       "aggSchema": [],
       "aggSeriesLimitReached": false,
       "aggType": "",
       "arguments": {},
       "columnCustomDisplayInfos": {},
       "data": [],
       "datasetInfos": [],
       "dbfsResultPath": null,
       "isJsonSchema": true,
       "metadata": {},
       "overflow": false,
       "plotOptions": {
        "customPlotOptions": {},
        "displayType": "table",
        "pivotAggregation": null,
        "pivotColumns": null,
        "xColumns": null,
        "yColumns": null
       },
       "removedWidgets": [],
       "schema": [
        {
         "metadata": "{}",
         "name": "num_affected_rows",
         "type": "\"long\""
        },
        {
         "metadata": "{}",
         "name": "num_inserted_rows",
         "type": "\"long\""
        }
       ],
       "type": "table"
      }
     },
     "output_type": "display_data"
    }
   ],
   "source": [
    "%sql\n",
    "CREATE OR REPLACE TABLE gold.dim_production_countries\n",
    "USING DELTA\n",
    "AS\n",
    "SELECT * FROM silver.dim_production_countries_v2;"
   ]
  },
  {
   "cell_type": "code",
   "execution_count": 0,
   "metadata": {
    "application/vnd.databricks.v1+cell": {
     "cellMetadata": {
      "byteLimit": 2048000,
      "implicitDf": true,
      "rowLimit": 10000
     },
     "inputWidgets": {},
     "nuid": "f73c1ec1-1b7f-4bed-bd26-a8b652f1e218",
     "showTitle": false,
     "tableResultSettingsMap": {},
     "title": ""
    }
   },
   "outputs": [
    {
     "data": {
      "text/html": [
       "<style scoped>\n",
       "  .table-result-container {\n",
       "    max-height: 300px;\n",
       "    overflow: auto;\n",
       "  }\n",
       "  table, th, td {\n",
       "    border: 1px solid black;\n",
       "    border-collapse: collapse;\n",
       "  }\n",
       "  th, td {\n",
       "    padding: 5px;\n",
       "  }\n",
       "  th {\n",
       "    text-align: left;\n",
       "  }\n",
       "</style><div class='table-result-container'><table class='table-result'><thead style='background-color: white'><tr><th>num_affected_rows</th><th>num_inserted_rows</th></tr></thead><tbody></tbody></table></div>"
      ]
     },
     "metadata": {
      "application/vnd.databricks.v1+output": {
       "addedWidgets": {},
       "aggData": [],
       "aggError": "",
       "aggOverflow": false,
       "aggSchema": [],
       "aggSeriesLimitReached": false,
       "aggType": "",
       "arguments": {},
       "columnCustomDisplayInfos": {},
       "data": [],
       "datasetInfos": [],
       "dbfsResultPath": null,
       "isJsonSchema": true,
       "metadata": {},
       "overflow": false,
       "plotOptions": {
        "customPlotOptions": {},
        "displayType": "table",
        "pivotAggregation": null,
        "pivotColumns": null,
        "xColumns": null,
        "yColumns": null
       },
       "removedWidgets": [],
       "schema": [
        {
         "metadata": "{}",
         "name": "num_affected_rows",
         "type": "\"long\""
        },
        {
         "metadata": "{}",
         "name": "num_inserted_rows",
         "type": "\"long\""
        }
       ],
       "type": "table"
      }
     },
     "output_type": "display_data"
    }
   ],
   "source": [
    "%sql\n",
    "CREATE OR REPLACE TABLE gold.fat_movie_cast\n",
    "USING DELTA\n",
    "AS\n",
    "SELECT * FROM silver.fat_movie_cast;"
   ]
  },
  {
   "cell_type": "code",
   "execution_count": 0,
   "metadata": {
    "application/vnd.databricks.v1+cell": {
     "cellMetadata": {},
     "inputWidgets": {},
     "nuid": "2d5b1385-85a8-4b6a-8ced-37ea8bd2f126",
     "showTitle": false,
     "tableResultSettingsMap": {},
     "title": ""
    }
   },
   "outputs": [
    {
     "data": {
      "text/html": [
       "<style scoped>\n",
       "  .table-result-container {\n",
       "    max-height: 300px;\n",
       "    overflow: auto;\n",
       "  }\n",
       "  table, th, td {\n",
       "    border: 1px solid black;\n",
       "    border-collapse: collapse;\n",
       "  }\n",
       "  th, td {\n",
       "    padding: 5px;\n",
       "  }\n",
       "  th {\n",
       "    text-align: left;\n",
       "  }\n",
       "</style><div class='table-result-container'><table class='table-result'><thead style='background-color: white'><tr><th>num_affected_rows</th><th>num_inserted_rows</th></tr></thead><tbody></tbody></table></div>"
      ]
     },
     "metadata": {
      "application/vnd.databricks.v1+output": {
       "addedWidgets": {},
       "aggData": [],
       "aggError": "",
       "aggOverflow": false,
       "aggSchema": [],
       "aggSeriesLimitReached": false,
       "aggType": "",
       "arguments": {},
       "columnCustomDisplayInfos": {},
       "data": [],
       "datasetInfos": [],
       "dbfsResultPath": null,
       "isJsonSchema": true,
       "metadata": {},
       "overflow": false,
       "plotOptions": {
        "customPlotOptions": {},
        "displayType": "table",
        "pivotAggregation": null,
        "pivotColumns": null,
        "xColumns": null,
        "yColumns": null
       },
       "removedWidgets": [],
       "schema": [
        {
         "metadata": "{}",
         "name": "num_affected_rows",
         "type": "\"long\""
        },
        {
         "metadata": "{}",
         "name": "num_inserted_rows",
         "type": "\"long\""
        }
       ],
       "type": "table"
      }
     },
     "output_type": "display_data"
    }
   ],
   "source": [
    "%sql\n",
    "CREATE OR REPLACE TABLE gold.fat_movie_genres\n",
    "USING DELTA\n",
    "AS\n",
    "SELECT * FROM silver.fat_movie_genres;"
   ]
  },
  {
   "cell_type": "code",
   "execution_count": 0,
   "metadata": {
    "application/vnd.databricks.v1+cell": {
     "cellMetadata": {
      "byteLimit": 2048000,
      "implicitDf": true,
      "rowLimit": 10000
     },
     "inputWidgets": {},
     "nuid": "e5d6b091-aecd-4540-80f9-5e04f865d33e",
     "showTitle": false,
     "tableResultSettingsMap": {},
     "title": ""
    }
   },
   "outputs": [
    {
     "data": {
      "text/html": [
       "<style scoped>\n",
       "  .table-result-container {\n",
       "    max-height: 300px;\n",
       "    overflow: auto;\n",
       "  }\n",
       "  table, th, td {\n",
       "    border: 1px solid black;\n",
       "    border-collapse: collapse;\n",
       "  }\n",
       "  th, td {\n",
       "    padding: 5px;\n",
       "  }\n",
       "  th {\n",
       "    text-align: left;\n",
       "  }\n",
       "</style><div class='table-result-container'><table class='table-result'><thead style='background-color: white'><tr><th>num_affected_rows</th><th>num_inserted_rows</th></tr></thead><tbody></tbody></table></div>"
      ]
     },
     "metadata": {
      "application/vnd.databricks.v1+output": {
       "addedWidgets": {},
       "aggData": [],
       "aggError": "",
       "aggOverflow": false,
       "aggSchema": [],
       "aggSeriesLimitReached": false,
       "aggType": "",
       "arguments": {},
       "columnCustomDisplayInfos": {},
       "data": [],
       "datasetInfos": [],
       "dbfsResultPath": null,
       "isJsonSchema": true,
       "metadata": {},
       "overflow": false,
       "plotOptions": {
        "customPlotOptions": {},
        "displayType": "table",
        "pivotAggregation": null,
        "pivotColumns": null,
        "xColumns": null,
        "yColumns": null
       },
       "removedWidgets": [],
       "schema": [
        {
         "metadata": "{}",
         "name": "num_affected_rows",
         "type": "\"long\""
        },
        {
         "metadata": "{}",
         "name": "num_inserted_rows",
         "type": "\"long\""
        }
       ],
       "type": "table"
      }
     },
     "output_type": "display_data"
    }
   ],
   "source": [
    "%sql\n",
    "CREATE OR REPLACE TABLE gold.fat_movie_production_countries\n",
    "USING DELTA\n",
    "AS\n",
    "SELECT * FROM silver.fat_movie_production_countries;"
   ]
  },
  {
   "cell_type": "code",
   "execution_count": 0,
   "metadata": {
    "application/vnd.databricks.v1+cell": {
     "cellMetadata": {
      "byteLimit": 2048000,
      "implicitDf": true,
      "rowLimit": 10000
     },
     "inputWidgets": {},
     "nuid": "fdcad964-09b6-4322-830c-da3977e51bdf",
     "showTitle": false,
     "tableResultSettingsMap": {},
     "title": ""
    }
   },
   "outputs": [
    {
     "data": {
      "text/html": [
       "<style scoped>\n",
       "  .table-result-container {\n",
       "    max-height: 300px;\n",
       "    overflow: auto;\n",
       "  }\n",
       "  table, th, td {\n",
       "    border: 1px solid black;\n",
       "    border-collapse: collapse;\n",
       "  }\n",
       "  th, td {\n",
       "    padding: 5px;\n",
       "  }\n",
       "  th {\n",
       "    text-align: left;\n",
       "  }\n",
       "</style><div class='table-result-container'><table class='table-result'><thead style='background-color: white'><tr><th>num_affected_rows</th><th>num_inserted_rows</th></tr></thead><tbody></tbody></table></div>"
      ]
     },
     "metadata": {
      "application/vnd.databricks.v1+output": {
       "addedWidgets": {},
       "aggData": [],
       "aggError": "",
       "aggOverflow": false,
       "aggSchema": [],
       "aggSeriesLimitReached": false,
       "aggType": "",
       "arguments": {},
       "columnCustomDisplayInfos": {},
       "data": [],
       "datasetInfos": [],
       "dbfsResultPath": null,
       "isJsonSchema": true,
       "metadata": {},
       "overflow": false,
       "plotOptions": {
        "customPlotOptions": {},
        "displayType": "table",
        "pivotAggregation": null,
        "pivotColumns": null,
        "xColumns": null,
        "yColumns": null
       },
       "removedWidgets": [],
       "schema": [
        {
         "metadata": "{}",
         "name": "num_affected_rows",
         "type": "\"long\""
        },
        {
         "metadata": "{}",
         "name": "num_inserted_rows",
         "type": "\"long\""
        }
       ],
       "type": "table"
      }
     },
     "output_type": "display_data"
    }
   ],
   "source": [
    "%sql\n",
    "CREATE OR REPLACE TABLE gold.fat_movie_genres\n",
    "USING DELTA\n",
    "AS\n",
    "SELECT * FROM silver.fat_movie_genres;"
   ]
  },
  {
   "cell_type": "markdown",
   "metadata": {
    "application/vnd.databricks.v1+cell": {
     "cellMetadata": {},
     "inputWidgets": {},
     "nuid": "7bada48d-1256-4519-8cc8-00ad452df49b",
     "showTitle": false,
     "tableResultSettingsMap": {},
     "title": ""
    }
   },
   "source": [
    "Qual o filme com mais atores da base?"
   ]
  },
  {
   "cell_type": "code",
   "execution_count": 0,
   "metadata": {
    "application/vnd.databricks.v1+cell": {
     "cellMetadata": {
      "byteLimit": 2048000,
      "implicitDf": true,
      "rowLimit": 10000
     },
     "inputWidgets": {},
     "nuid": "65e8364a-e74b-4aa9-8d1a-73c6d6b8cde2",
     "showTitle": false,
     "tableResultSettingsMap": {},
     "title": ""
    }
   },
   "outputs": [
    {
     "data": {
      "text/html": [
       "<style scoped>\n",
       "  .table-result-container {\n",
       "    max-height: 300px;\n",
       "    overflow: auto;\n",
       "  }\n",
       "  table, th, td {\n",
       "    border: 1px solid black;\n",
       "    border-collapse: collapse;\n",
       "  }\n",
       "  th, td {\n",
       "    padding: 5px;\n",
       "  }\n",
       "  th {\n",
       "    text-align: left;\n",
       "  }\n",
       "</style><div class='table-result-container'><table class='table-result'><thead style='background-color: white'><tr><th>movie_id</th><th>title</th><th>total_atores</th></tr></thead><tbody><tr><td>209112</td><td>Batman v Superman: Dawn of Justice</td><td>152</td></tr></tbody></table></div>"
      ]
     },
     "metadata": {
      "application/vnd.databricks.v1+output": {
       "addedWidgets": {},
       "aggData": [],
       "aggError": "",
       "aggOverflow": false,
       "aggSchema": [],
       "aggSeriesLimitReached": false,
       "aggType": "",
       "arguments": {},
       "columnCustomDisplayInfos": {},
       "data": [
        [
         209112,
         "Batman v Superman: Dawn of Justice",
         152
        ]
       ],
       "datasetInfos": [],
       "dbfsResultPath": null,
       "isJsonSchema": true,
       "metadata": {},
       "overflow": false,
       "plotOptions": {
        "customPlotOptions": {},
        "displayType": "table",
        "pivotAggregation": null,
        "pivotColumns": null,
        "xColumns": null,
        "yColumns": null
       },
       "removedWidgets": [],
       "schema": [
        {
         "metadata": "{}",
         "name": "movie_id",
         "type": "\"long\""
        },
        {
         "metadata": "{}",
         "name": "title",
         "type": "\"string\""
        },
        {
         "metadata": "{}",
         "name": "total_atores",
         "type": "\"long\""
        }
       ],
       "type": "table"
      }
     },
     "output_type": "display_data"
    }
   ],
   "source": [
    "%sql\n",
    "SELECT \n",
    "  f.movie_id,\n",
    "  d.title,\n",
    "  COUNT(DISTINCT f.actor_id) AS total_atores\n",
    "FROM gold.fat_movie_cast f\n",
    "JOIN gold.dim_movies d\n",
    "  ON f.movie_id = d.id\n",
    "GROUP BY f.movie_id, d.title\n",
    "ORDER BY total_atores DESC\n",
    "LIMIT 1;"
   ]
  },
  {
   "cell_type": "markdown",
   "metadata": {},
   "source": [
    "Evidência"
   ]
  },
  {
   "attachments": {
    "image.png": {
     "image/png": "[encoded data removed]"
    }
   },
   "cell_type": "markdown",
   "metadata": {},
   "source": [
    "![image.png](attachment:image.png)"
   ]
  },
  {
   "cell_type": "markdown",
   "metadata": {
    "application/vnd.databricks.v1+cell": {
     "cellMetadata": {},
     "inputWidgets": {},
     "nuid": "bfc5d302-8c47-4167-828f-663f4ee1b8b2",
     "showTitle": false,
     "tableResultSettingsMap": {},
     "title": ""
    }
   },
   "source": [
    "Batman VS Superman é o filme com mais atores da base, com 152 atores"
   ]
  },
  {
   "cell_type": "markdown",
   "metadata": {
    "application/vnd.databricks.v1+cell": {
     "cellMetadata": {},
     "inputWidgets": {},
     "nuid": "ef9e72ea-0c9a-4688-b6ff-7b93b3faeffe",
     "showTitle": false,
     "tableResultSettingsMap": {},
     "title": ""
    }
   },
   "source": [
    "Que porcentagem dos atores são mulheres?"
   ]
  },
  {
   "cell_type": "code",
   "execution_count": 0,
   "metadata": {
    "application/vnd.databricks.v1+cell": {
     "cellMetadata": {
      "byteLimit": 2048000,
      "implicitDf": true,
      "rowLimit": 10000
     },
     "inputWidgets": {},
     "nuid": "2d5a1d06-ad7a-46b9-82ad-dc919ff6f26b",
     "showTitle": false,
     "tableResultSettingsMap": {},
     "title": ""
    }
   },
   "outputs": [
    {
     "data": {
      "text/html": [
       "<style scoped>\n",
       "  .table-result-container {\n",
       "    max-height: 300px;\n",
       "    overflow: auto;\n",
       "  }\n",
       "  table, th, td {\n",
       "    border: 1px solid black;\n",
       "    border-collapse: collapse;\n",
       "  }\n",
       "  th, td {\n",
       "    padding: 5px;\n",
       "  }\n",
       "  th {\n",
       "    text-align: left;\n",
       "  }\n",
       "</style><div class='table-result-container'><table class='table-result'><thead style='background-color: white'><tr><th>percentual_mulheres</th></tr></thead><tbody><tr><td>25.81</td></tr></tbody></table></div>"
      ]
     },
     "metadata": {
      "application/vnd.databricks.v1+output": {
       "addedWidgets": {},
       "aggData": [],
       "aggError": "",
       "aggOverflow": false,
       "aggSchema": [],
       "aggSeriesLimitReached": false,
       "aggType": "",
       "arguments": {},
       "columnCustomDisplayInfos": {},
       "data": [
        [
         "25.81"
        ]
       ],
       "datasetInfos": [],
       "dbfsResultPath": null,
       "isJsonSchema": true,
       "metadata": {},
       "overflow": false,
       "plotOptions": {
        "customPlotOptions": {},
        "displayType": "table",
        "pivotAggregation": null,
        "pivotColumns": null,
        "xColumns": null,
        "yColumns": null
       },
       "removedWidgets": [],
       "schema": [
        {
         "metadata": "{}",
         "name": "percentual_mulheres",
         "type": "\"decimal(27,2)\""
        }
       ],
       "type": "table"
      }
     },
     "output_type": "display_data"
    }
   ],
   "source": [
    "%sql\n",
    "SELECT \n",
    "  ROUND(\n",
    "    COUNT(CASE WHEN actor_gender = 1 THEN 1 END) * 100.0 / COUNT(*), \n",
    "    2\n",
    "  ) AS percentual_mulheres\n",
    "FROM gold.dim_actors;"
   ]
  },
  {
   "cell_type": "markdown",
   "metadata": {},
   "source": [
    "Evidência"
   ]
  },
  {
   "attachments": {
    "image.png": {
     "image/png": "[encoded data removed]"
    }
   },
   "cell_type": "markdown",
   "metadata": {},
   "source": [
    "![image.png](attachment:image.png)"
   ]
  },
  {
   "cell_type": "markdown",
   "metadata": {
    "application/vnd.databricks.v1+cell": {
     "cellMetadata": {},
     "inputWidgets": {},
     "nuid": "13ae722e-3981-4e75-a891-2c04431a0b2d",
     "showTitle": false,
     "tableResultSettingsMap": {},
     "title": ""
    }
   },
   "source": [
    "Extensão: E desconsiderando os indefinidos?"
   ]
  },
  {
   "cell_type": "code",
   "execution_count": 0,
   "metadata": {
    "application/vnd.databricks.v1+cell": {
     "cellMetadata": {
      "byteLimit": 2048000,
      "implicitDf": true,
      "rowLimit": 10000
     },
     "inputWidgets": {},
     "nuid": "b404e2d7-147e-4332-9870-c5587d77e2b8",
     "showTitle": false,
     "tableResultSettingsMap": {},
     "title": ""
    }
   },
   "outputs": [
    {
     "data": {
      "text/html": [
       "<style scoped>\n",
       "  .table-result-container {\n",
       "    max-height: 300px;\n",
       "    overflow: auto;\n",
       "  }\n",
       "  table, th, td {\n",
       "    border: 1px solid black;\n",
       "    border-collapse: collapse;\n",
       "  }\n",
       "  th, td {\n",
       "    padding: 5px;\n",
       "  }\n",
       "  th {\n",
       "    text-align: left;\n",
       "  }\n",
       "</style><div class='table-result-container'><table class='table-result'><thead style='background-color: white'><tr><th>percentual_mulheres</th></tr></thead><tbody><tr><td>39.19</td></tr></tbody></table></div>"
      ]
     },
     "metadata": {
      "application/vnd.databricks.v1+output": {
       "addedWidgets": {},
       "aggData": [],
       "aggError": "",
       "aggOverflow": false,
       "aggSchema": [],
       "aggSeriesLimitReached": false,
       "aggType": "",
       "arguments": {},
       "columnCustomDisplayInfos": {},
       "data": [
        [
         "39.19"
        ]
       ],
       "datasetInfos": [],
       "dbfsResultPath": null,
       "isJsonSchema": true,
       "metadata": {},
       "overflow": false,
       "plotOptions": {
        "customPlotOptions": {},
        "displayType": "table",
        "pivotAggregation": null,
        "pivotColumns": null,
        "xColumns": null,
        "yColumns": null
       },
       "removedWidgets": [],
       "schema": [
        {
         "metadata": "{}",
         "name": "percentual_mulheres",
         "type": "\"decimal(27,2)\""
        }
       ],
       "type": "table"
      }
     },
     "output_type": "display_data"
    }
   ],
   "source": [
    "%sql\n",
    "SELECT \n",
    "  ROUND(\n",
    "    COUNT(CASE WHEN actor_gender = 1 THEN 1 END) * 100.0 / COUNT(CASE WHEN actor_gender IN (1, 2) THEN 1 END), \n",
    "    2\n",
    "  ) AS percentual_mulheres\n",
    "FROM gold.dim_actors;"
   ]
  },
  {
   "cell_type": "markdown",
   "metadata": {},
   "source": [
    "Evidência"
   ]
  },
  {
   "attachments": {
    "image.png": {
     "image/png": "[encoded data removed]"
    }
   },
   "cell_type": "markdown",
   "metadata": {},
   "source": [
    "![image.png](attachment:image.png)"
   ]
  },
  {
   "cell_type": "markdown",
   "metadata": {
    "application/vnd.databricks.v1+cell": {
     "cellMetadata": {},
     "inputWidgets": {},
     "nuid": "d9b0ecaa-eba0-42db-8ed6-3e9f21b6d506",
     "showTitle": false,
     "tableResultSettingsMap": {},
     "title": ""
    }
   },
   "source": [
    "Que ator e atriz mais atuaram em filmes?"
   ]
  },
  {
   "cell_type": "code",
   "execution_count": 0,
   "metadata": {
    "application/vnd.databricks.v1+cell": {
     "cellMetadata": {
      "byteLimit": 2048000,
      "implicitDf": true,
      "rowLimit": 10000
     },
     "inputWidgets": {},
     "nuid": "f7bd5927-5b89-4290-af75-b72b4c3c0d5f",
     "showTitle": false,
     "tableResultSettingsMap": {},
     "title": ""
    }
   },
   "outputs": [
    {
     "data": {
      "text/html": [
       "<style scoped>\n",
       "  .table-result-container {\n",
       "    max-height: 300px;\n",
       "    overflow: auto;\n",
       "  }\n",
       "  table, th, td {\n",
       "    border: 1px solid black;\n",
       "    border-collapse: collapse;\n",
       "  }\n",
       "  th, td {\n",
       "    padding: 5px;\n",
       "  }\n",
       "  th {\n",
       "    text-align: left;\n",
       "  }\n",
       "</style><div class='table-result-container'><table class='table-result'><thead style='background-color: white'><tr><th>name</th><th>total_filmes</th></tr></thead><tbody><tr><td>Gérard Depardieu</td><td>45</td></tr></tbody></table></div>"
      ]
     },
     "metadata": {
      "application/vnd.databricks.v1+output": {
       "addedWidgets": {},
       "aggData": [],
       "aggError": "",
       "aggOverflow": false,
       "aggSchema": [],
       "aggSeriesLimitReached": false,
       "aggType": "",
       "arguments": {},
       "columnCustomDisplayInfos": {},
       "data": [
        [
         "Gérard Depardieu",
         45
        ]
       ],
       "datasetInfos": [],
       "dbfsResultPath": null,
       "isJsonSchema": true,
       "metadata": {},
       "overflow": false,
       "plotOptions": {
        "customPlotOptions": {},
        "displayType": "table",
        "pivotAggregation": null,
        "pivotColumns": null,
        "xColumns": null,
        "yColumns": null
       },
       "removedWidgets": [],
       "schema": [
        {
         "metadata": "{}",
         "name": "name",
         "type": "\"string\""
        },
        {
         "metadata": "{}",
         "name": "total_filmes",
         "type": "\"long\""
        }
       ],
       "type": "table"
      }
     },
     "output_type": "display_data"
    }
   ],
   "source": [
    "%sql\n",
    "-- Ator que mais atuou (gender = 2)\n",
    "SELECT a.name, COUNT(*) AS total_filmes\n",
    "FROM gold.fat_movie_cast f\n",
    "JOIN gold.dim_actors a ON f.actor_id = a.actor_id\n",
    "WHERE a.actor_gender = 2\n",
    "GROUP BY a.name\n",
    "ORDER BY total_filmes DESC\n",
    "LIMIT 1;\n",
    "\n"
   ]
  },
  {
   "cell_type": "markdown",
   "metadata": {},
   "source": [
    "Evidência"
   ]
  },
  {
   "attachments": {
    "image.png": {
     "image/png": "[encoded data removed]"
    }
   },
   "cell_type": "markdown",
   "metadata": {},
   "source": [
    "![image.png](attachment:image.png)"
   ]
  },
  {
   "cell_type": "code",
   "execution_count": 0,
   "metadata": {
    "application/vnd.databricks.v1+cell": {
     "cellMetadata": {
      "byteLimit": 2048000,
      "implicitDf": true,
      "rowLimit": 10000
     },
     "inputWidgets": {},
     "nuid": "ea821d29-9377-45b3-b344-a5e04e918541",
     "showTitle": false,
     "tableResultSettingsMap": {},
     "title": ""
    }
   },
   "outputs": [
    {
     "data": {
      "text/html": [
       "<style scoped>\n",
       "  .table-result-container {\n",
       "    max-height: 300px;\n",
       "    overflow: auto;\n",
       "  }\n",
       "  table, th, td {\n",
       "    border: 1px solid black;\n",
       "    border-collapse: collapse;\n",
       "  }\n",
       "  th, td {\n",
       "    padding: 5px;\n",
       "  }\n",
       "  th {\n",
       "    text-align: left;\n",
       "  }\n",
       "</style><div class='table-result-container'><table class='table-result'><thead style='background-color: white'><tr><th>name</th><th>total_filmes</th></tr></thead><tbody><tr><td>Bess Flowers</td><td>48</td></tr></tbody></table></div>"
      ]
     },
     "metadata": {
      "application/vnd.databricks.v1+output": {
       "addedWidgets": {},
       "aggData": [],
       "aggError": "",
       "aggOverflow": false,
       "aggSchema": [],
       "aggSeriesLimitReached": false,
       "aggType": "",
       "arguments": {},
       "columnCustomDisplayInfos": {},
       "data": [
        [
         "Bess Flowers",
         48
        ]
       ],
       "datasetInfos": [],
       "dbfsResultPath": null,
       "isJsonSchema": true,
       "metadata": {},
       "overflow": false,
       "plotOptions": {
        "customPlotOptions": {},
        "displayType": "table",
        "pivotAggregation": null,
        "pivotColumns": null,
        "xColumns": null,
        "yColumns": null
       },
       "removedWidgets": [],
       "schema": [
        {
         "metadata": "{}",
         "name": "name",
         "type": "\"string\""
        },
        {
         "metadata": "{}",
         "name": "total_filmes",
         "type": "\"long\""
        }
       ],
       "type": "table"
      }
     },
     "output_type": "display_data"
    }
   ],
   "source": [
    "%sql\n",
    "-- Atriz que mais atuou (gender = 1)\n",
    "SELECT a.name, COUNT(*) AS total_filmes\n",
    "FROM gold.fat_movie_cast f\n",
    "JOIN gold.dim_actors a ON f.actor_id = a.actor_id\n",
    "WHERE a.actor_gender = 1\n",
    "GROUP BY a.name\n",
    "ORDER BY total_filmes DESC\n",
    "LIMIT 1;"
   ]
  },
  {
   "cell_type": "markdown",
   "metadata": {},
   "source": [
    "Evidência"
   ]
  },
  {
   "attachments": {
    "image.png": {
     "image/png": "[encoded data removed]"
    }
   },
   "cell_type": "markdown",
   "metadata": {},
   "source": [
    "![image.png](attachment:image.png)"
   ]
  },
  {
   "cell_type": "markdown",
   "metadata": {
    "application/vnd.databricks.v1+cell": {
     "cellMetadata": {},
     "inputWidgets": {},
     "nuid": "08dcd098-c876-4750-b95a-90117be12f52",
     "showTitle": false,
     "tableResultSettingsMap": {},
     "title": ""
    }
   },
   "source": [
    "Como a presença de mulheres tem variado ao longo do tempo?"
   ]
  },
  {
   "cell_type": "code",
   "execution_count": 0,
   "metadata": {
    "application/vnd.databricks.v1+cell": {
     "cellMetadata": {
      "byteLimit": 2048000,
      "implicitDf": true,
      "rowLimit": 10000
     },
     "inputWidgets": {},
     "nuid": "88826ebb-a61f-4fc5-8630-d0bcedbe3ccf",
     "showTitle": false,
     "tableResultSettingsMap": {},
     "title": ""
    }
   },
   "outputs": [
    {
     "data": {
      "text/html": [
       "<style scoped>\n",
       "  .table-result-container {\n",
       "    max-height: 300px;\n",
       "    overflow: auto;\n",
       "  }\n",
       "  table, th, td {\n",
       "    border: 1px solid black;\n",
       "    border-collapse: collapse;\n",
       "  }\n",
       "  th, td {\n",
       "    padding: 5px;\n",
       "  }\n",
       "  th {\n",
       "    text-align: left;\n",
       "  }\n",
       "</style><div class='table-result-container'><table class='table-result'><thead style='background-color: white'><tr><th>ano</th><th>total_atores</th><th>total_mulheres</th><th>percentual_mulheres</th></tr></thead><tbody><tr><td>1909</td><td>1</td><td>0</td><td>0.00</td></tr><tr><td>1911</td><td>2</td><td>1</td><td>50.00</td></tr><tr><td>1912</td><td>5</td><td>4</td><td>80.00</td></tr><tr><td>1913</td><td>6</td><td>1</td><td>16.67</td></tr><tr><td>1914</td><td>7</td><td>2</td><td>28.57</td></tr><tr><td>1916</td><td>2</td><td>2</td><td>100.00</td></tr><tr><td>1917</td><td>3</td><td>0</td><td>0.00</td></tr><tr><td>1918</td><td>6</td><td>3</td><td>50.00</td></tr><tr><td>1919</td><td>3</td><td>0</td><td>0.00</td></tr><tr><td>1920</td><td>2</td><td>0</td><td>0.00</td></tr><tr><td>1921</td><td>8</td><td>4</td><td>50.00</td></tr><tr><td>1922</td><td>11</td><td>3</td><td>27.27</td></tr><tr><td>1923</td><td>8</td><td>3</td><td>37.50</td></tr><tr><td>1925</td><td>1</td><td>1</td><td>100.00</td></tr><tr><td>1926</td><td>12</td><td>5</td><td>41.67</td></tr><tr><td>1927</td><td>9</td><td>2</td><td>22.22</td></tr><tr><td>1928</td><td>15</td><td>2</td><td>13.33</td></tr><tr><td>1929</td><td>26</td><td>11</td><td>42.31</td></tr><tr><td>1930</td><td>64</td><td>25</td><td>39.06</td></tr><tr><td>1931</td><td>102</td><td>39</td><td>38.24</td></tr><tr><td>1932</td><td>184</td><td>59</td><td>32.07</td></tr><tr><td>1933</td><td>116</td><td>40</td><td>34.48</td></tr><tr><td>1934</td><td>251</td><td>85</td><td>33.86</td></tr><tr><td>1935</td><td>269</td><td>86</td><td>31.97</td></tr><tr><td>1936</td><td>136</td><td>37</td><td>27.21</td></tr><tr><td>1937</td><td>215</td><td>63</td><td>29.30</td></tr><tr><td>1938</td><td>186</td><td>59</td><td>31.72</td></tr><tr><td>1939</td><td>47</td><td>11</td><td>23.40</td></tr><tr><td>1940</td><td>33</td><td>8</td><td>24.24</td></tr><tr><td>1941</td><td>359</td><td>121</td><td>33.70</td></tr><tr><td>1942</td><td>407</td><td>125</td><td>30.71</td></tr><tr><td>1943</td><td>356</td><td>114</td><td>32.02</td></tr><tr><td>1944</td><td>214</td><td>73</td><td>34.11</td></tr><tr><td>1945</td><td>337</td><td>109</td><td>32.34</td></tr><tr><td>1946</td><td>262</td><td>88</td><td>33.59</td></tr><tr><td>1947</td><td>321</td><td>95</td><td>29.60</td></tr><tr><td>1948</td><td>289</td><td>95</td><td>32.87</td></tr><tr><td>1949</td><td>420</td><td>130</td><td>30.95</td></tr><tr><td>1950</td><td>382</td><td>121</td><td>31.68</td></tr><tr><td>1951</td><td>334</td><td>92</td><td>27.54</td></tr><tr><td>1952</td><td>437</td><td>125</td><td>28.60</td></tr><tr><td>1953</td><td>358</td><td>100</td><td>27.93</td></tr><tr><td>1954</td><td>363</td><td>111</td><td>30.58</td></tr><tr><td>1955</td><td>492</td><td>146</td><td>29.67</td></tr><tr><td>1956</td><td>370</td><td>90</td><td>24.32</td></tr><tr><td>1957</td><td>284</td><td>84</td><td>29.58</td></tr><tr><td>1958</td><td>259</td><td>71</td><td>27.41</td></tr><tr><td>1959</td><td>368</td><td>105</td><td>28.53</td></tr><tr><td>1960</td><td>280</td><td>95</td><td>33.93</td></tr><tr><td>1961</td><td>304</td><td>91</td><td>29.93</td></tr><tr><td>1962</td><td>293</td><td>81</td><td>27.65</td></tr><tr><td>1963</td><td>353</td><td>105</td><td>29.75</td></tr><tr><td>1964</td><td>277</td><td>98</td><td>35.38</td></tr><tr><td>1965</td><td>375</td><td>97</td><td>25.87</td></tr><tr><td>1966</td><td>323</td><td>106</td><td>32.82</td></tr><tr><td>1967</td><td>340</td><td>79</td><td>23.24</td></tr><tr><td>1968</td><td>412</td><td>125</td><td>30.34</td></tr><tr><td>1969</td><td>333</td><td>98</td><td>29.43</td></tr><tr><td>1970</td><td>277</td><td>76</td><td>27.44</td></tr><tr><td>1971</td><td>288</td><td>77</td><td>26.74</td></tr><tr><td>1972</td><td>294</td><td>77</td><td>26.19</td></tr><tr><td>1973</td><td>418</td><td>98</td><td>23.44</td></tr><tr><td>1974</td><td>306</td><td>84</td><td>27.45</td></tr><tr><td>1975</td><td>358</td><td>111</td><td>31.01</td></tr><tr><td>1976</td><td>339</td><td>91</td><td>26.84</td></tr><tr><td>1977</td><td>366</td><td>109</td><td>29.78</td></tr><tr><td>1978</td><td>472</td><td>136</td><td>28.81</td></tr><tr><td>1979</td><td>506</td><td>142</td><td>28.06</td></tr><tr><td>1980</td><td>426</td><td>120</td><td>28.17</td></tr><tr><td>1981</td><td>465</td><td>153</td><td>32.90</td></tr><tr><td>1982</td><td>413</td><td>117</td><td>28.33</td></tr><tr><td>1983</td><td>334</td><td>109</td><td>32.63</td></tr><tr><td>1984</td><td>402</td><td>129</td><td>32.09</td></tr><tr><td>1985</td><td>359</td><td>104</td><td>28.97</td></tr><tr><td>1986</td><td>523</td><td>149</td><td>28.49</td></tr><tr><td>1987</td><td>619</td><td>180</td><td>29.08</td></tr><tr><td>1988</td><td>857</td><td>271</td><td>31.62</td></tr><tr><td>1989</td><td>435</td><td>125</td><td>28.74</td></tr><tr><td>1990</td><td>811</td><td>254</td><td>31.32</td></tr><tr><td>1991</td><td>531</td><td>178</td><td>33.52</td></tr><tr><td>1992</td><td>799</td><td>281</td><td>35.17</td></tr><tr><td>1993</td><td>971</td><td>322</td><td>33.16</td></tr><tr><td>1994</td><td>1262</td><td>370</td><td>29.32</td></tr><tr><td>1995</td><td>1207</td><td>410</td><td>33.97</td></tr><tr><td>1996</td><td>1318</td><td>427</td><td>32.40</td></tr><tr><td>1997</td><td>1448</td><td>484</td><td>33.43</td></tr><tr><td>1998</td><td>1551</td><td>519</td><td>33.46</td></tr><tr><td>1999</td><td>1505</td><td>522</td><td>34.68</td></tr><tr><td>2000</td><td>1899</td><td>659</td><td>34.70</td></tr><tr><td>2001</td><td>1786</td><td>626</td><td>35.05</td></tr><tr><td>2002</td><td>2053</td><td>723</td><td>35.22</td></tr><tr><td>2003</td><td>1724</td><td>617</td><td>35.79</td></tr><tr><td>2004</td><td>2055</td><td>733</td><td>35.67</td></tr><tr><td>2005</td><td>2341</td><td>844</td><td>36.05</td></tr><tr><td>2006</td><td>2703</td><td>967</td><td>35.78</td></tr><tr><td>2007</td><td>2670</td><td>986</td><td>36.93</td></tr><tr><td>2008</td><td>2729</td><td>1042</td><td>38.18</td></tr><tr><td>2009</td><td>3319</td><td>1253</td><td>37.75</td></tr><tr><td>2010</td><td>3383</td><td>1320</td><td>39.02</td></tr><tr><td>2011</td><td>3575</td><td>1278</td><td>35.75</td></tr><tr><td>2012</td><td>3273</td><td>1196</td><td>36.54</td></tr><tr><td>2013</td><td>3592</td><td>1303</td><td>36.28</td></tr><tr><td>2014</td><td>4007</td><td>1495</td><td>37.31</td></tr><tr><td>2015</td><td>3386</td><td>1274</td><td>37.63</td></tr><tr><td>2016</td><td>2808</td><td>1057</td><td>37.64</td></tr><tr><td>2017</td><td>901</td><td>307</td><td>34.07</td></tr><tr><td>2020</td><td>18</td><td>7</td><td>38.89</td></tr></tbody></table></div>"
      ]
     },
     "metadata": {
      "application/vnd.databricks.v1+output": {
       "addedWidgets": {},
       "aggData": [],
       "aggError": "",
       "aggOverflow": false,
       "aggSchema": [],
       "aggSeriesLimitReached": false,
       "aggType": "",
       "arguments": {},
       "columnCustomDisplayInfos": {},
       "data": [
        [
         1909,
         1,
         0,
         "0.00"
        ],
        [
         1911,
         2,
         1,
         "50.00"
        ],
        [
         1912,
         5,
         4,
         "80.00"
        ],
        [
         1913,
         6,
         1,
         "16.67"
        ],
        [
         1914,
         7,
         2,
         "28.57"
        ],
        [
         1916,
         2,
         2,
         "100.00"
        ],
        [
         1917,
         3,
         0,
         "0.00"
        ],
        [
         1918,
         6,
         3,
         "50.00"
        ],
        [
         1919,
         3,
         0,
         "0.00"
        ],
        [
         1920,
         2,
         0,
         "0.00"
        ],
        [
         1921,
         8,
         4,
         "50.00"
        ],
        [
         1922,
         11,
         3,
         "27.27"
        ],
        [
         1923,
         8,
         3,
         "37.50"
        ],
        [
         1925,
         1,
         1,
         "100.00"
        ],
        [
         1926,
         12,
         5,
         "41.67"
        ],
        [
         1927,
         9,
         2,
         "22.22"
        ],
        [
         1928,
         15,
         2,
         "13.33"
        ],
        [
         1929,
         26,
         11,
         "42.31"
        ],
        [
         1930,
         64,
         25,
         "39.06"
        ],
        [
         1931,
         102,
         39,
         "38.24"
        ],
        [
         1932,
         184,
         59,
         "32.07"
        ],
        [
         1933,
         116,
         40,
         "34.48"
        ],
        [
         1934,
         251,
         85,
         "33.86"
        ],
        [
         1935,
         269,
         86,
         "31.97"
        ],
        [
         1936,
         136,
         37,
         "27.21"
        ],
        [
         1937,
         215,
         63,
         "29.30"
        ],
        [
         1938,
         186,
         59,
         "31.72"
        ],
        [
         1939,
         47,
         11,
         "23.40"
        ],
        [
         1940,
         33,
         8,
         "24.24"
        ],
        [
         1941,
         359,
         121,
         "33.70"
        ],
        [
         1942,
         407,
         125,
         "30.71"
        ],
        [
         1943,
         356,
         114,
         "32.02"
        ],
        [
         1944,
         214,
         73,
         "34.11"
        ],
        [
         1945,
         337,
         109,
         "32.34"
        ],
        [
         1946,
         262,
         88,
         "33.59"
        ],
        [
         1947,
         321,
         95,
         "29.60"
        ],
        [
         1948,
         289,
         95,
         "32.87"
        ],
        [
         1949,
         420,
         130,
         "30.95"
        ],
        [
         1950,
         382,
         121,
         "31.68"
        ],
        [
         1951,
         334,
         92,
         "27.54"
        ],
        [
         1952,
         437,
         125,
         "28.60"
        ],
        [
         1953,
         358,
         100,
         "27.93"
        ],
        [
         1954,
         363,
         111,
         "30.58"
        ],
        [
         1955,
         492,
         146,
         "29.67"
        ],
        [
         1956,
         370,
         90,
         "24.32"
        ],
        [
         1957,
         284,
         84,
         "29.58"
        ],
        [
         1958,
         259,
         71,
         "27.41"
        ],
        [
         1959,
         368,
         105,
         "28.53"
        ],
        [
         1960,
         280,
         95,
         "33.93"
        ],
        [
         1961,
         304,
         91,
         "29.93"
        ],
        [
         1962,
         293,
         81,
         "27.65"
        ],
        [
         1963,
         353,
         105,
         "29.75"
        ],
        [
         1964,
         277,
         98,
         "35.38"
        ],
        [
         1965,
         375,
         97,
         "25.87"
        ],
        [
         1966,
         323,
         106,
         "32.82"
        ],
        [
         1967,
         340,
         79,
         "23.24"
        ],
        [
         1968,
         412,
         125,
         "30.34"
        ],
        [
         1969,
         333,
         98,
         "29.43"
        ],
        [
         1970,
         277,
         76,
         "27.44"
        ],
        [
         1971,
         288,
         77,
         "26.74"
        ],
        [
         1972,
         294,
         77,
         "26.19"
        ],
        [
         1973,
         418,
         98,
         "23.44"
        ],
        [
         1974,
         306,
         84,
         "27.45"
        ],
        [
         1975,
         358,
         111,
         "31.01"
        ],
        [
         1976,
         339,
         91,
         "26.84"
        ],
        [
         1977,
         366,
         109,
         "29.78"
        ],
        [
         1978,
         472,
         136,
         "28.81"
        ],
        [
         1979,
         506,
         142,
         "28.06"
        ],
        [
         1980,
         426,
         120,
         "28.17"
        ],
        [
         1981,
         465,
         153,
         "32.90"
        ],
        [
         1982,
         413,
         117,
         "28.33"
        ],
        [
         1983,
         334,
         109,
         "32.63"
        ],
        [
         1984,
         402,
         129,
         "32.09"
        ],
        [
         1985,
         359,
         104,
         "28.97"
        ],
        [
         1986,
         523,
         149,
         "28.49"
        ],
        [
         1987,
         619,
         180,
         "29.08"
        ],
        [
         1988,
         857,
         271,
         "31.62"
        ],
        [
         1989,
         435,
         125,
         "28.74"
        ],
        [
         1990,
         811,
         254,
         "31.32"
        ],
        [
         1991,
         531,
         178,
         "33.52"
        ],
        [
         1992,
         799,
         281,
         "35.17"
        ],
        [
         1993,
         971,
         322,
         "33.16"
        ],
        [
         1994,
         1262,
         370,
         "29.32"
        ],
        [
         1995,
         1207,
         410,
         "33.97"
        ],
        [
         1996,
         1318,
         427,
         "32.40"
        ],
        [
         1997,
         1448,
         484,
         "33.43"
        ],
        [
         1998,
         1551,
         519,
         "33.46"
        ],
        [
         1999,
         1505,
         522,
         "34.68"
        ],
        [
         2000,
         1899,
         659,
         "34.70"
        ],
        [
         2001,
         1786,
         626,
         "35.05"
        ],
        [
         2002,
         2053,
         723,
         "35.22"
        ],
        [
         2003,
         1724,
         617,
         "35.79"
        ],
        [
         2004,
         2055,
         733,
         "35.67"
        ],
        [
         2005,
         2341,
         844,
         "36.05"
        ],
        [
         2006,
         2703,
         967,
         "35.78"
        ],
        [
         2007,
         2670,
         986,
         "36.93"
        ],
        [
         2008,
         2729,
         1042,
         "38.18"
        ],
        [
         2009,
         3319,
         1253,
         "37.75"
        ],
        [
         2010,
         3383,
         1320,
         "39.02"
        ],
        [
         2011,
         3575,
         1278,
         "35.75"
        ],
        [
         2012,
         3273,
         1196,
         "36.54"
        ],
        [
         2013,
         3592,
         1303,
         "36.28"
        ],
        [
         2014,
         4007,
         1495,
         "37.31"
        ],
        [
         2015,
         3386,
         1274,
         "37.63"
        ],
        [
         2016,
         2808,
         1057,
         "37.64"
        ],
        [
         2017,
         901,
         307,
         "34.07"
        ],
        [
         2020,
         18,
         7,
         "38.89"
        ]
       ],
       "datasetInfos": [],
       "dbfsResultPath": null,
       "isJsonSchema": true,
       "metadata": {},
       "overflow": false,
       "plotOptions": {
        "customPlotOptions": {},
        "displayType": "table",
        "pivotAggregation": null,
        "pivotColumns": null,
        "xColumns": null,
        "yColumns": null
       },
       "removedWidgets": [],
       "schema": [
        {
         "metadata": "{}",
         "name": "ano",
         "type": "\"integer\""
        },
        {
         "metadata": "{}",
         "name": "total_atores",
         "type": "\"long\""
        },
        {
         "metadata": "{}",
         "name": "total_mulheres",
         "type": "\"long\""
        },
        {
         "metadata": "{}",
         "name": "percentual_mulheres",
         "type": "\"decimal(27,2)\""
        }
       ],
       "type": "table"
      }
     },
     "output_type": "display_data"
    }
   ],
   "source": [
    "%sql\n",
    "\n",
    "WITH atores_filmes AS (\n",
    "  SELECT \n",
    "    m.release_date,\n",
    "    a.actor_gender\n",
    "  FROM gold.fat_movie_cast f\n",
    "  JOIN gold.dim_actors a ON f.actor_id = a.actor_id\n",
    "  JOIN gold.dim_movies m ON f.movie_id = m.id\n",
    "  WHERE a.actor_gender IN (1, 2) AND m.release_date IS NOT NULL\n",
    "),\n",
    "atores_por_ano AS (\n",
    "  SELECT \n",
    "    YEAR(release_date) AS ano,\n",
    "    COUNT(*) AS total_atores,\n",
    "    COUNT(CASE WHEN actor_gender = 1 THEN 1 END) AS total_mulheres\n",
    "  FROM atores_filmes\n",
    "  GROUP BY YEAR(release_date)\n",
    ")\n",
    "SELECT \n",
    "  ano,\n",
    "  total_atores,\n",
    "  total_mulheres,\n",
    "  ROUND((total_mulheres * 100.0) / total_atores, 2) AS percentual_mulheres\n",
    "FROM atores_por_ano\n",
    "ORDER BY ano;\n"
   ]
  },
  {
   "cell_type": "markdown",
   "metadata": {},
   "source": [
    "Evidência"
   ]
  },
  {
   "attachments": {
    "image.png": {
     "image/png": "[encoded data removed]"
    }
   },
   "cell_type": "markdown",
   "metadata": {},
   "source": [
    "![image.png](attachment:image.png)"
   ]
  },
  {
   "cell_type": "markdown",
   "metadata": {
    "application/vnd.databricks.v1+cell": {
     "cellMetadata": {},
     "inputWidgets": {},
     "nuid": "3205c2dc-6540-4e04-be7e-cacf489c8db9",
     "showTitle": false,
     "tableResultSettingsMap": {},
     "title": ""
    }
   },
   "source": [
    "Na maior parte da base a porcentagem de mulheres varia entre cerca de 30 a 40%"
   ]
  },
  {
   "cell_type": "markdown",
   "metadata": {
    "application/vnd.databricks.v1+cell": {
     "cellMetadata": {},
     "inputWidgets": {},
     "nuid": "7267d016-fee7-44ce-b267-bfe05e6919e0",
     "showTitle": false,
     "tableResultSettingsMap": {},
     "title": ""
    }
   },
   "source": [
    "Qual gênero de filme é mais comum?"
   ]
  },
  {
   "cell_type": "code",
   "execution_count": 0,
   "metadata": {
    "application/vnd.databricks.v1+cell": {
     "cellMetadata": {
      "byteLimit": 2048000,
      "implicitDf": true,
      "rowLimit": 10000
     },
     "inputWidgets": {},
     "nuid": "3896a8c6-23c0-4afa-b796-714dbb3ee3f1",
     "showTitle": false,
     "tableResultSettingsMap": {},
     "title": ""
    }
   },
   "outputs": [
    {
     "data": {
      "text/html": [
       "<style scoped>\n",
       "  .table-result-container {\n",
       "    max-height: 300px;\n",
       "    overflow: auto;\n",
       "  }\n",
       "  table, th, td {\n",
       "    border: 1px solid black;\n",
       "    border-collapse: collapse;\n",
       "  }\n",
       "  th, td {\n",
       "    padding: 5px;\n",
       "  }\n",
       "  th {\n",
       "    text-align: left;\n",
       "  }\n",
       "</style><div class='table-result-container'><table class='table-result'><thead style='background-color: white'><tr><th>genre_name</th><th>total_filmes</th></tr></thead><tbody><tr><td>Drama</td><td>20265</td></tr><tr><td>Comedy</td><td>13182</td></tr><tr><td>Thriller</td><td>7624</td></tr><tr><td>Romance</td><td>6735</td></tr><tr><td>Action</td><td>6596</td></tr></tbody></table></div>"
      ]
     },
     "metadata": {
      "application/vnd.databricks.v1+output": {
       "addedWidgets": {},
       "aggData": [],
       "aggError": "",
       "aggOverflow": false,
       "aggSchema": [],
       "aggSeriesLimitReached": false,
       "aggType": "",
       "arguments": {},
       "columnCustomDisplayInfos": {},
       "data": [
        [
         "Drama",
         20265
        ],
        [
         "Comedy",
         13182
        ],
        [
         "Thriller",
         7624
        ],
        [
         "Romance",
         6735
        ],
        [
         "Action",
         6596
        ]
       ],
       "datasetInfos": [],
       "dbfsResultPath": null,
       "isJsonSchema": true,
       "metadata": {},
       "overflow": false,
       "plotOptions": {
        "customPlotOptions": {},
        "displayType": "table",
        "pivotAggregation": null,
        "pivotColumns": null,
        "xColumns": null,
        "yColumns": null
       },
       "removedWidgets": [],
       "schema": [
        {
         "metadata": "{}",
         "name": "genre_name",
         "type": "\"string\""
        },
        {
         "metadata": "{}",
         "name": "total_filmes",
         "type": "\"long\""
        }
       ],
       "type": "table"
      }
     },
     "output_type": "display_data"
    }
   ],
   "source": [
    "%sql\n",
    "SELECT \n",
    "  g.genre_name,\n",
    "  COUNT(*) AS total_filmes\n",
    "FROM gold.fat_movie_genres f\n",
    "JOIN gold.dim_genres g ON f.genre_id = g.genre_id\n",
    "GROUP BY g.genre_name\n",
    "ORDER BY total_filmes DESC\n",
    "LIMIT 5;\n"
   ]
  },
  {
   "cell_type": "markdown",
   "metadata": {},
   "source": [
    "Evidência"
   ]
  },
  {
   "attachments": {
    "image.png": {
     "image/png": "[encoded data removed]"
    }
   },
   "cell_type": "markdown",
   "metadata": {},
   "source": [
    "![image.png](attachment:image.png)"
   ]
  },
  {
   "cell_type": "markdown",
   "metadata": {
    "application/vnd.databricks.v1+cell": {
     "cellMetadata": {},
     "inputWidgets": {},
     "nuid": "df0bbf57-8dcd-4165-a9d3-7cead7f84e71",
     "showTitle": false,
     "tableResultSettingsMap": {},
     "title": ""
    }
   },
   "source": [
    "Drama é o gênero de filme mais comum, seguido de comédia, suspense, romance e ação."
   ]
  },
  {
   "cell_type": "markdown",
   "metadata": {
    "application/vnd.databricks.v1+cell": {
     "cellMetadata": {},
     "inputWidgets": {},
     "nuid": "1707f75d-80ec-4412-a1d8-6b76ab0af0b1",
     "showTitle": false,
     "tableResultSettingsMap": {},
     "title": ""
    }
   },
   "source": [
    "Que país faz mais filmes desse gênero?"
   ]
  },
  {
   "cell_type": "code",
   "execution_count": 0,
   "metadata": {
    "application/vnd.databricks.v1+cell": {
     "cellMetadata": {
      "byteLimit": 2048000,
      "implicitDf": true,
      "rowLimit": 10000
     },
     "inputWidgets": {},
     "nuid": "917050f7-8f6b-49d6-8db7-adad684cc171",
     "showTitle": false,
     "tableResultSettingsMap": {},
     "title": ""
    }
   },
   "outputs": [
    {
     "data": {
      "text/html": [
       "<style scoped>\n",
       "  .table-result-container {\n",
       "    max-height: 300px;\n",
       "    overflow: auto;\n",
       "  }\n",
       "  table, th, td {\n",
       "    border: 1px solid black;\n",
       "    border-collapse: collapse;\n",
       "  }\n",
       "  th, td {\n",
       "    padding: 5px;\n",
       "  }\n",
       "  th {\n",
       "    text-align: left;\n",
       "  }\n",
       "</style><div class='table-result-container'><table class='table-result'><thead style='background-color: white'><tr><th>country_name</th><th>total_filmes_drama</th></tr></thead><tbody><tr><td>United States of America</td><td>9057</td></tr><tr><td>France</td><td>2425</td></tr><tr><td>United Kingdom</td><td>2148</td></tr><tr><td>Germany</td><td>1315</td></tr><tr><td>Italy</td><td>997</td></tr></tbody></table></div>"
      ]
     },
     "metadata": {
      "application/vnd.databricks.v1+output": {
       "addedWidgets": {},
       "aggData": [],
       "aggError": "",
       "aggOverflow": false,
       "aggSchema": [],
       "aggSeriesLimitReached": false,
       "aggType": "",
       "arguments": {},
       "columnCustomDisplayInfos": {},
       "data": [
        [
         "United States of America",
         9057
        ],
        [
         "France",
         2425
        ],
        [
         "United Kingdom",
         2148
        ],
        [
         "Germany",
         1315
        ],
        [
         "Italy",
         997
        ]
       ],
       "datasetInfos": [],
       "dbfsResultPath": null,
       "isJsonSchema": true,
       "metadata": {},
       "overflow": false,
       "plotOptions": {
        "customPlotOptions": {},
        "displayType": "table",
        "pivotAggregation": null,
        "pivotColumns": null,
        "xColumns": null,
        "yColumns": null
       },
       "removedWidgets": [],
       "schema": [
        {
         "metadata": "{}",
         "name": "country_name",
         "type": "\"string\""
        },
        {
         "metadata": "{}",
         "name": "total_filmes_drama",
         "type": "\"long\""
        }
       ],
       "type": "table"
      }
     },
     "output_type": "display_data"
    }
   ],
   "source": [
    "%sql\n",
    "SELECT \n",
    "  c.country_name,\n",
    "  COUNT(*) AS total_filmes_drama\n",
    "FROM gold.fat_movie_genres fmg\n",
    "JOIN gold.dim_genres g ON fmg.genre_id = g.genre_id\n",
    "JOIN gold.fat_movie_production_countries fpc ON fmg.movie_id = fpc.movie_id\n",
    "JOIN gold.dim_production_countries c ON fpc.country_id = c.country_id\n",
    "WHERE g.genre_name = 'Drama'\n",
    "GROUP BY c.country_name\n",
    "ORDER BY total_filmes_drama DESC\n",
    "LIMIT 5;\n"
   ]
  },
  {
   "cell_type": "code",
   "execution_count": null,
   "metadata": {},
   "outputs": [],
   "source": []
  },
  {
   "cell_type": "markdown",
   "metadata": {},
   "source": [
    "Evidência"
   ]
  },
  {
   "attachments": {
    "image.png": {
     "image/png": "[encoded data removed]"
    }
   },
   "cell_type": "markdown",
   "metadata": {},
   "source": [
    "![image.png](attachment:image.png)"
   ]
  },
  {
   "cell_type": "markdown",
   "metadata": {
    "application/vnd.databricks.v1+cell": {
     "cellMetadata": {},
     "inputWidgets": {},
     "nuid": "5eec469a-fc72-4e8e-a2d2-7f2cf5102d7a",
     "showTitle": false,
     "tableResultSettingsMap": {},
     "title": ""
    }
   },
   "source": [
    "Como esperado Estados Unidos é o país que mais faz filmes de drama, seguido de França e Reino Unido."
   ]
  },
  {
   "cell_type": "markdown",
   "metadata": {
    "application/vnd.databricks.v1+cell": {
     "cellMetadata": {},
     "inputWidgets": {},
     "nuid": "26264167-cd17-4918-b1a5-9455b35e0768",
     "showTitle": false,
     "tableResultSettingsMap": {},
     "title": ""
    }
   },
   "source": [
    "# Autoavaliação"
   ]
  },
  {
   "cell_type": "markdown",
   "metadata": {
    "application/vnd.databricks.v1+cell": {
     "cellMetadata": {},
     "inputWidgets": {},
     "nuid": "e2c52cab-830d-4777-99b4-9c5fef163a4f",
     "showTitle": false,
     "tableResultSettingsMap": {},
     "title": ""
    }
   },
   "source": [
    "Julgo que consegui atingir os obejtivos delineados no início do estudo. Minha maior dificuldade foi entender a sintaxe correta do Spark e como otimizar as quries em SQL para atingir or objetivos desejados. Me desafiei a não utilizar uma tabela flat para agrupar os dados, de forma a construir um data warehouse que exercitasse tudo que aprendi ao longo do curso. Por conta disso, fico muito animado com o projeto que desenvolvi e ansioso para por esse conhecimento em prática."
   ]
  },
  {
   "cell_type": "markdown",
   "metadata": {
    "application/vnd.databricks.v1+cell": {
     "cellMetadata": {},
     "inputWidgets": {},
     "nuid": "97792919-4da7-4fc4-9aa3-88ce619507fc",
     "showTitle": false,
     "tableResultSettingsMap": {},
     "title": ""
    }
   },
   "source": [
    "![](path)"
   ]
  }
 ],
 "metadata": {
  "application/vnd.databricks.v1+notebook": {
   "computePreferences": null,
   "dashboards": [],
   "environmentMetadata": {
    "base_environment": "",
    "environment_version": "1"
   },
   "inputWidgetPreferences": null,
   "language": "python",
   "notebookMetadata": {
    "mostRecentlyExecutedCommandWithImplicitDF": {
     "commandId": 1438013595191749,
     "dataframes": [
      "_sqldf"
     ]
    },
    "pythonIndentUnit": 4
   },
   "notebookName": "MVP Engenharia de Dados",
   "widgets": {}
  },
  "language_info": {
   "name": "python"
  }
 },
 "nbformat": 4,
 "nbformat_minor": 0
}
